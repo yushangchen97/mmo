{
 "cells": [
  {
   "cell_type": "markdown",
   "metadata": {
    "id": "DFVR2fOVkHjf"
   },
   "source": [
    "# ЛР№5 Предобработки текста  \n",
    "Юй Шанчэнь  ИУ5И-23М  \n",
    "Для выполнения работы испоьзована библиотека 'Natasha'"
   ]
  },
  {
   "cell_type": "code",
   "execution_count": 1,
   "metadata": {
    "executionInfo": {
     "elapsed": 4,
     "status": "ok",
     "timestamp": 1621696246859,
     "user": {
      "displayName": "zhibo zhang",
      "photoUrl": "https://lh3.googleusercontent.com/a-/AOh14Gh8_y4pfqR32K5ts_cWnnNmRU9hz13PqIdespQy=s64",
      "userId": "09431813280733956316"
     },
     "user_tz": -180
    },
    "id": "V8KnP9RNl4iG"
   },
   "outputs": [],
   "source": [
    "text='Сикорский родился 7 июня 1889 года. Он поступил в Киевский политехнический институт в 1907 году. В 1909-1912 годах студент Сикорский спроектировал и построил два вертолёта'"
   ]
  },
  {
   "cell_type": "markdown",
   "metadata": {
    "id": "9wxuOizdoLwY"
   },
   "source": [
    "# Задача токенизации"
   ]
  },
  {
   "cell_type": "code",
   "execution_count": 4,
   "metadata": {
    "colab": {
     "base_uri": "https://localhost:8080/"
    },
    "executionInfo": {
     "elapsed": 4239,
     "status": "ok",
     "timestamp": 1621696410614,
     "user": {
      "displayName": "zhibo zhang",
      "photoUrl": "https://lh3.googleusercontent.com/a-/AOh14Gh8_y4pfqR32K5ts_cWnnNmRU9hz13PqIdespQy=s64",
      "userId": "09431813280733956316"
     },
     "user_tz": -180
    },
    "id": "zk4iTqbboTaS",
    "outputId": "553a3395-fa59-40b2-9fb7-427a3c543b31"
   },
   "outputs": [
    {
     "name": "stdout",
     "output_type": "stream",
     "text": [
      "Collecting razdel\n",
      "  Downloading https://files.pythonhosted.org/packages/15/2c/664223a3924aa6e70479f7d37220b3a658765b9cfe760b4af7ffdc50d38f/razdel-0.5.0-py3-none-any.whl\n",
      "Installing collected packages: razdel\n",
      "Successfully installed razdel-0.5.0\n"
     ]
    },
    {
     "data": {
      "text/plain": [
       "[Substring(0, 9, 'Сикорский'),\n",
       " Substring(10, 17, 'родился'),\n",
       " Substring(18, 19, '7'),\n",
       " Substring(20, 24, 'июня'),\n",
       " Substring(25, 29, '1889'),\n",
       " Substring(30, 34, 'года'),\n",
       " Substring(34, 35, '.'),\n",
       " Substring(36, 38, 'Он'),\n",
       " Substring(39, 47, 'поступил'),\n",
       " Substring(48, 49, 'в'),\n",
       " Substring(50, 58, 'Киевский'),\n",
       " Substring(59, 74, 'политехнический'),\n",
       " Substring(75, 83, 'институт'),\n",
       " Substring(84, 85, 'в'),\n",
       " Substring(86, 90, '1907'),\n",
       " Substring(91, 95, 'году'),\n",
       " Substring(95, 96, '.'),\n",
       " Substring(97, 98, 'В'),\n",
       " Substring(99, 108, '1909-1912'),\n",
       " Substring(109, 114, 'годах'),\n",
       " Substring(115, 122, 'студент'),\n",
       " Substring(123, 132, 'Сикорский'),\n",
       " Substring(133, 146, 'спроектировал'),\n",
       " Substring(147, 148, 'и'),\n",
       " Substring(149, 157, 'построил'),\n",
       " Substring(158, 161, 'два'),\n",
       " Substring(162, 171, 'вертолёта')]"
      ]
     },
     "execution_count": 4,
     "metadata": {
      "tags": []
     },
     "output_type": "execute_result"
    }
   ],
   "source": [
    "!pip install razdel\n",
    "from razdel import tokenize, sentenize\n",
    "n_tok_text = list(tokenize(text))\n",
    "n_tok_text"
   ]
  },
  {
   "cell_type": "code",
   "execution_count": 6,
   "metadata": {
    "colab": {
     "base_uri": "https://localhost:8080/"
    },
    "executionInfo": {
     "elapsed": 625,
     "status": "ok",
     "timestamp": 1621696445015,
     "user": {
      "displayName": "zhibo zhang",
      "photoUrl": "https://lh3.googleusercontent.com/a-/AOh14Gh8_y4pfqR32K5ts_cWnnNmRU9hz13PqIdespQy=s64",
      "userId": "09431813280733956316"
     },
     "user_tz": -180
    },
    "id": "VHowWv0VolL_",
    "outputId": "b838de87-3c60-447c-cf16-f2b67d933cd9"
   },
   "outputs": [
    {
     "data": {
      "text/plain": [
       "['Сикорский',\n",
       " 'родился',\n",
       " '7',\n",
       " 'июня',\n",
       " '1889',\n",
       " 'года',\n",
       " '.',\n",
       " 'Он',\n",
       " 'поступил',\n",
       " 'в',\n",
       " 'Киевский',\n",
       " 'политехнический',\n",
       " 'институт',\n",
       " 'в',\n",
       " '1907',\n",
       " 'году',\n",
       " '.',\n",
       " 'В',\n",
       " '1909-1912',\n",
       " 'годах',\n",
       " 'студент',\n",
       " 'Сикорский',\n",
       " 'спроектировал',\n",
       " 'и',\n",
       " 'построил',\n",
       " 'два',\n",
       " 'вертолёта']"
      ]
     },
     "execution_count": 6,
     "metadata": {
      "tags": []
     },
     "output_type": "execute_result"
    }
   ],
   "source": [
    "[_.text for _ in n_tok_text]"
   ]
  },
  {
   "cell_type": "code",
   "execution_count": 7,
   "metadata": {
    "colab": {
     "base_uri": "https://localhost:8080/"
    },
    "executionInfo": {
     "elapsed": 541,
     "status": "ok",
     "timestamp": 1621696459335,
     "user": {
      "displayName": "zhibo zhang",
      "photoUrl": "https://lh3.googleusercontent.com/a-/AOh14Gh8_y4pfqR32K5ts_cWnnNmRU9hz13PqIdespQy=s64",
      "userId": "09431813280733956316"
     },
     "user_tz": -180
    },
    "id": "yCszVgbto9Aa",
    "outputId": "36de138a-21ce-4b52-db1a-eac561c85cca"
   },
   "outputs": [
    {
     "data": {
      "text/plain": [
       "[Substring(0, 35, 'Сикорский родился 7 июня 1889 года.'),\n",
       " Substring(36,\n",
       "           96,\n",
       "           'Он поступил в Киевский политехнический институт в 1907 году.'),\n",
       " Substring(97,\n",
       "           171,\n",
       "           'В 1909-1912 годах студент Сикорский спроектировал и построил два вертолёта')]"
      ]
     },
     "execution_count": 7,
     "metadata": {
      "tags": []
     },
     "output_type": "execute_result"
    }
   ],
   "source": [
    "n_sen_text = list(sentenize(text))\n",
    "n_sen_text"
   ]
  },
  {
   "cell_type": "code",
   "execution_count": 8,
   "metadata": {
    "colab": {
     "base_uri": "https://localhost:8080/"
    },
    "executionInfo": {
     "elapsed": 442,
     "status": "ok",
     "timestamp": 1621696471895,
     "user": {
      "displayName": "zhibo zhang",
      "photoUrl": "https://lh3.googleusercontent.com/a-/AOh14Gh8_y4pfqR32K5ts_cWnnNmRU9hz13PqIdespQy=s64",
      "userId": "09431813280733956316"
     },
     "user_tz": -180
    },
    "id": "_OdJFqRMpC20",
    "outputId": "8e08cab2-2406-4a7a-afff-69a98de535b1"
   },
   "outputs": [
    {
     "data": {
      "text/plain": [
       "(['Сикорский родился 7 июня 1889 года.',\n",
       "  'Он поступил в Киевский политехнический институт в 1907 году.',\n",
       "  'В 1909-1912 годах студент Сикорский спроектировал и построил два вертолёта'],\n",
       " 3)"
      ]
     },
     "execution_count": 8,
     "metadata": {
      "tags": []
     },
     "output_type": "execute_result"
    }
   ],
   "source": [
    "[_.text for _ in n_sen_text], len([_.text for _ in n_sen_text])"
   ]
  },
  {
   "cell_type": "code",
   "execution_count": 9,
   "metadata": {
    "executionInfo": {
     "elapsed": 564,
     "status": "ok",
     "timestamp": 1621696492624,
     "user": {
      "displayName": "zhibo zhang",
      "photoUrl": "https://lh3.googleusercontent.com/a-/AOh14Gh8_y4pfqR32K5ts_cWnnNmRU9hz13PqIdespQy=s64",
      "userId": "09431813280733956316"
     },
     "user_tz": -180
    },
    "id": "07pJGzjGpF83"
   },
   "outputs": [],
   "source": [
    "def n_sentenize(text):\n",
    "    n_sen_chunk = []\n",
    "    for sent in sentenize(text):\n",
    "        tokens = [_.text for _ in tokenize(sent.text)]\n",
    "        n_sen_chunk.append(tokens)\n",
    "    return n_sen_chunk"
   ]
  },
  {
   "cell_type": "code",
   "execution_count": 10,
   "metadata": {
    "colab": {
     "base_uri": "https://localhost:8080/"
    },
    "executionInfo": {
     "elapsed": 573,
     "status": "ok",
     "timestamp": 1621696509144,
     "user": {
      "displayName": "zhibo zhang",
      "photoUrl": "https://lh3.googleusercontent.com/a-/AOh14Gh8_y4pfqR32K5ts_cWnnNmRU9hz13PqIdespQy=s64",
      "userId": "09431813280733956316"
     },
     "user_tz": -180
    },
    "id": "wBcLq6PepK8-",
    "outputId": "5c3388ba-512e-453d-e5ce-26c05200bb98"
   },
   "outputs": [
    {
     "data": {
      "text/plain": [
       "[['Сикорский', 'родился', '7', 'июня', '1889', 'года', '.'],\n",
       " ['Он',\n",
       "  'поступил',\n",
       "  'в',\n",
       "  'Киевский',\n",
       "  'политехнический',\n",
       "  'институт',\n",
       "  'в',\n",
       "  '1907',\n",
       "  'году',\n",
       "  '.'],\n",
       " ['В',\n",
       "  '1909-1912',\n",
       "  'годах',\n",
       "  'студент',\n",
       "  'Сикорский',\n",
       "  'спроектировал',\n",
       "  'и',\n",
       "  'построил',\n",
       "  'два',\n",
       "  'вертолёта']]"
      ]
     },
     "execution_count": 10,
     "metadata": {
      "tags": []
     },
     "output_type": "execute_result"
    }
   ],
   "source": [
    "n_sen_chunk = n_sentenize(text)\n",
    "n_sen_chunk"
   ]
  },
  {
   "cell_type": "markdown",
   "metadata": {
    "id": "aaBbLL6bpPAj"
   },
   "source": [
    "# Частеречная разметка"
   ]
  },
  {
   "cell_type": "code",
   "execution_count": 13,
   "metadata": {
    "colab": {
     "base_uri": "https://localhost:8080/"
    },
    "executionInfo": {
     "elapsed": 6399,
     "status": "ok",
     "timestamp": 1621697092856,
     "user": {
      "displayName": "zhibo zhang",
      "photoUrl": "https://lh3.googleusercontent.com/a-/AOh14Gh8_y4pfqR32K5ts_cWnnNmRU9hz13PqIdespQy=s64",
      "userId": "09431813280733956316"
     },
     "user_tz": -180
    },
    "id": "iPbT-e2lpWzX",
    "outputId": "d830022c-79e4-40e0-acee-4617e0c8d4cb"
   },
   "outputs": [
    {
     "name": "stdout",
     "output_type": "stream",
     "text": [
      "Requirement already satisfied: navec in /usr/local/lib/python3.7/dist-packages (0.10.0)\n",
      "Requirement already satisfied: numpy in /usr/local/lib/python3.7/dist-packages (from navec) (1.19.5)\n",
      "Collecting slovnet\n",
      "\u001b[?25l  Downloading https://files.pythonhosted.org/packages/a9/3b/f1ef495be8990004959dd0510c95f688d1b07529f6a862bc56a405770b26/slovnet-0.5.0-py3-none-any.whl (49kB)\n",
      "\u001b[K     |████████████████████████████████| 51kB 1.6MB/s \n",
      "\u001b[?25hRequirement already satisfied: navec in /usr/local/lib/python3.7/dist-packages (from slovnet) (0.10.0)\n",
      "Requirement already satisfied: razdel in /usr/local/lib/python3.7/dist-packages (from slovnet) (0.5.0)\n",
      "Requirement already satisfied: numpy in /usr/local/lib/python3.7/dist-packages (from slovnet) (1.19.5)\n",
      "Installing collected packages: slovnet\n",
      "Successfully installed slovnet-0.5.0\n"
     ]
    }
   ],
   "source": [
    "!pip install navec\n",
    "!pip install slovnet\n",
    "from navec import Navec\n",
    "from slovnet import Morph"
   ]
  },
  {
   "cell_type": "code",
   "execution_count": 21,
   "metadata": {
    "colab": {
     "base_uri": "https://localhost:8080/"
    },
    "executionInfo": {
     "elapsed": 684,
     "status": "ok",
     "timestamp": 1621697502243,
     "user": {
      "displayName": "zhibo zhang",
      "photoUrl": "https://lh3.googleusercontent.com/a-/AOh14Gh8_y4pfqR32K5ts_cWnnNmRU9hz13PqIdespQy=s64",
      "userId": "09431813280733956316"
     },
     "user_tz": -180
    },
    "id": "tRYDg9F8sNRu",
    "outputId": "0829cd5a-eb11-4943-ef4e-51c4ce259913"
   },
   "outputs": [
    {
     "name": "stdout",
     "output_type": "stream",
     "text": [
      "/content/drive/MyDrive\n"
     ]
    }
   ],
   "source": [
    "%cd /content/drive/MyDrive"
   ]
  },
  {
   "cell_type": "code",
   "execution_count": 22,
   "metadata": {
    "executionInfo": {
     "elapsed": 3947,
     "status": "ok",
     "timestamp": 1621697567781,
     "user": {
      "displayName": "zhibo zhang",
      "photoUrl": "https://lh3.googleusercontent.com/a-/AOh14Gh8_y4pfqR32K5ts_cWnnNmRU9hz13PqIdespQy=s64",
      "userId": "09431813280733956316"
     },
     "user_tz": -180
    },
    "id": "aS3r42ixrRId"
   },
   "outputs": [],
   "source": [
    "navec = Navec.load('navec_news_v1_1B_250K_300d_100q.tar')"
   ]
  },
  {
   "cell_type": "code",
   "execution_count": 23,
   "metadata": {
    "executionInfo": {
     "elapsed": 2239,
     "status": "ok",
     "timestamp": 1621697583009,
     "user": {
      "displayName": "zhibo zhang",
      "photoUrl": "https://lh3.googleusercontent.com/a-/AOh14Gh8_y4pfqR32K5ts_cWnnNmRU9hz13PqIdespQy=s64",
      "userId": "09431813280733956316"
     },
     "user_tz": -180
    },
    "id": "A4PbusBfrijT"
   },
   "outputs": [],
   "source": [
    "n_morph = Morph.load('slovnet_morph_news_v1.tar', batch_size=4)"
   ]
  },
  {
   "cell_type": "code",
   "execution_count": 24,
   "metadata": {
    "executionInfo": {
     "elapsed": 871,
     "status": "ok",
     "timestamp": 1621697588069,
     "user": {
      "displayName": "zhibo zhang",
      "photoUrl": "https://lh3.googleusercontent.com/a-/AOh14Gh8_y4pfqR32K5ts_cWnnNmRU9hz13PqIdespQy=s64",
      "userId": "09431813280733956316"
     },
     "user_tz": -180
    },
    "id": "cj3WzhCItUyA"
   },
   "outputs": [],
   "source": [
    "morph_res = n_morph.navec(navec)"
   ]
  },
  {
   "cell_type": "code",
   "execution_count": 25,
   "metadata": {
    "executionInfo": {
     "elapsed": 685,
     "status": "ok",
     "timestamp": 1621697594635,
     "user": {
      "displayName": "zhibo zhang",
      "photoUrl": "https://lh3.googleusercontent.com/a-/AOh14Gh8_y4pfqR32K5ts_cWnnNmRU9hz13PqIdespQy=s64",
      "userId": "09431813280733956316"
     },
     "user_tz": -180
    },
    "id": "gl3s1qXLtWWZ"
   },
   "outputs": [],
   "source": [
    "def print_pos(markup):\n",
    "    for token in markup.tokens:\n",
    "        print('{} - {}'.format(token.text, token.tag))"
   ]
  },
  {
   "cell_type": "code",
   "execution_count": 28,
   "metadata": {
    "colab": {
     "base_uri": "https://localhost:8080/"
    },
    "executionInfo": {
     "elapsed": 803,
     "status": "ok",
     "timestamp": 1621697645119,
     "user": {
      "displayName": "zhibo zhang",
      "photoUrl": "https://lh3.googleusercontent.com/a-/AOh14Gh8_y4pfqR32K5ts_cWnnNmRU9hz13PqIdespQy=s64",
      "userId": "09431813280733956316"
     },
     "user_tz": -180
    },
    "id": "NizftATktX_3",
    "outputId": "b982833c-df17-4c62-c449-a89a1eb60c7c"
   },
   "outputs": [
    {
     "name": "stdout",
     "output_type": "stream",
     "text": [
      "Сикорский - PROPN|Animacy=Anim|Case=Nom|Gender=Masc|Number=Sing\n",
      "родился - VERB|Aspect=Perf|Gender=Masc|Mood=Ind|Number=Sing|Tense=Past|VerbForm=Fin|Voice=Mid\n",
      "7 - ADJ\n",
      "июня - NOUN|Animacy=Inan|Case=Gen|Gender=Masc|Number=Sing\n",
      "1889 - ADJ\n",
      "года - NOUN|Animacy=Inan|Case=Gen|Gender=Masc|Number=Sing\n",
      ". - PUNCT\n",
      "Он - PRON|Case=Nom|Gender=Masc|Number=Sing|Person=3\n",
      "поступил - VERB|Aspect=Perf|Gender=Masc|Mood=Ind|Number=Sing|Tense=Past|VerbForm=Fin|Voice=Act\n",
      "в - ADP\n",
      "Киевский - ADJ|Animacy=Inan|Case=Acc|Degree=Pos|Gender=Masc|Number=Sing\n",
      "политехнический - ADJ|Animacy=Inan|Case=Acc|Degree=Pos|Gender=Masc|Number=Sing\n",
      "институт - NOUN|Animacy=Inan|Case=Acc|Gender=Masc|Number=Sing\n",
      "в - ADP\n",
      "1907 - ADJ\n",
      "году - NOUN|Animacy=Inan|Case=Loc|Gender=Masc|Number=Sing\n",
      ". - PUNCT\n",
      "В - ADP\n",
      "1909-1912 - ADJ\n",
      "годах - NOUN|Animacy=Inan|Case=Loc|Gender=Masc|Number=Plur\n",
      "студент - NOUN|Animacy=Anim|Case=Nom|Gender=Masc|Number=Sing\n",
      "Сикорский - PROPN|Animacy=Anim|Case=Nom|Gender=Masc|Number=Sing\n",
      "спроектировал - VERB|Aspect=Perf|Gender=Masc|Mood=Ind|Number=Sing|Tense=Past|VerbForm=Fin|Voice=Act\n",
      "и - CCONJ\n",
      "построил - VERB|Aspect=Perf|Gender=Masc|Mood=Ind|Number=Sing|Tense=Past|VerbForm=Fin|Voice=Act\n",
      "два - NUM|Animacy=Inan|Case=Acc|Gender=Masc\n",
      "вертолёта - NOUN|Animacy=Inan|Case=Gen|Gender=Masc|Number=Sing\n"
     ]
    },
    {
     "data": {
      "text/plain": [
       "[None, None, None]"
      ]
     },
     "execution_count": 28,
     "metadata": {
      "tags": []
     },
     "output_type": "execute_result"
    }
   ],
   "source": [
    "n_text_markup = list(_ for _ in n_morph.map(n_sen_chunk))\n",
    "[print_pos(x) for x in n_text_markup]"
   ]
  },
  {
   "cell_type": "markdown",
   "metadata": {
    "id": "kY1Hea48tn9W"
   },
   "source": [
    "# Лемматизация"
   ]
  },
  {
   "cell_type": "code",
   "execution_count": 31,
   "metadata": {
    "colab": {
     "base_uri": "https://localhost:8080/"
    },
    "executionInfo": {
     "elapsed": 11044,
     "status": "ok",
     "timestamp": 1621697716876,
     "user": {
      "displayName": "zhibo zhang",
      "photoUrl": "https://lh3.googleusercontent.com/a-/AOh14Gh8_y4pfqR32K5ts_cWnnNmRU9hz13PqIdespQy=s64",
      "userId": "09431813280733956316"
     },
     "user_tz": -180
    },
    "id": "9mAFTVlatty-",
    "outputId": "fb315b28-04d3-4e4f-f1b1-d81048ad78ba"
   },
   "outputs": [
    {
     "name": "stdout",
     "output_type": "stream",
     "text": [
      "Collecting natasha\n",
      "\u001b[?25l  Downloading https://files.pythonhosted.org/packages/51/8e/ab0745100be276750fb6b8858c6180a1756696572295a74eb5aea77f3bbd/natasha-1.4.0-py3-none-any.whl (34.4MB)\n",
      "\u001b[K     |████████████████████████████████| 34.4MB 1.5MB/s \n",
      "\u001b[?25hRequirement already satisfied: razdel>=0.5.0 in /usr/local/lib/python3.7/dist-packages (from natasha) (0.5.0)\n",
      "Collecting yargy>=0.14.0\n",
      "\u001b[?25l  Downloading https://files.pythonhosted.org/packages/d3/46/bc1a17200a55f4b0608f39ac64f1840fd4a52f9eeea462d9afecbf71246b/yargy-0.15.0-py3-none-any.whl (41kB)\n",
      "\u001b[K     |████████████████████████████████| 51kB 5.5MB/s \n",
      "\u001b[?25hCollecting pymorphy2\n",
      "\u001b[?25l  Downloading https://files.pythonhosted.org/packages/07/57/b2ff2fae3376d4f3c697b9886b64a54b476e1a332c67eee9f88e7f1ae8c9/pymorphy2-0.9.1-py3-none-any.whl (55kB)\n",
      "\u001b[K     |████████████████████████████████| 61kB 7.0MB/s \n",
      "\u001b[?25hCollecting ipymarkup>=0.8.0\n",
      "  Downloading https://files.pythonhosted.org/packages/bf/9b/bf54c98d50735a4a7c84c71e92c5361730c878ebfe903d2c2d196ef66055/ipymarkup-0.9.0-py3-none-any.whl\n",
      "Requirement already satisfied: slovnet>=0.3.0 in /usr/local/lib/python3.7/dist-packages (from natasha) (0.5.0)\n",
      "Requirement already satisfied: navec>=0.9.0 in /usr/local/lib/python3.7/dist-packages (from natasha) (0.10.0)\n",
      "Collecting dawg-python>=0.7.1\n",
      "  Downloading https://files.pythonhosted.org/packages/6a/84/ff1ce2071d4c650ec85745766c0047ccc3b5036f1d03559fd46bb38b5eeb/DAWG_Python-0.7.2-py2.py3-none-any.whl\n",
      "Collecting pymorphy2-dicts-ru<3.0,>=2.4\n",
      "\u001b[?25l  Downloading https://files.pythonhosted.org/packages/3a/79/bea0021eeb7eeefde22ef9e96badf174068a2dd20264b9a378f2be1cdd9e/pymorphy2_dicts_ru-2.4.417127.4579844-py2.py3-none-any.whl (8.2MB)\n",
      "\u001b[K     |████████████████████████████████| 8.2MB 16.1MB/s \n",
      "\u001b[?25hRequirement already satisfied: docopt>=0.6 in /usr/local/lib/python3.7/dist-packages (from pymorphy2->natasha) (0.6.2)\n",
      "Collecting intervaltree>=3\n",
      "  Downloading https://files.pythonhosted.org/packages/50/fb/396d568039d21344639db96d940d40eb62befe704ef849b27949ded5c3bb/intervaltree-3.1.0.tar.gz\n",
      "Requirement already satisfied: numpy in /usr/local/lib/python3.7/dist-packages (from slovnet>=0.3.0->natasha) (1.19.5)\n",
      "Requirement already satisfied: sortedcontainers<3.0,>=2.0 in /usr/local/lib/python3.7/dist-packages (from intervaltree>=3->ipymarkup>=0.8.0->natasha) (2.3.0)\n",
      "Building wheels for collected packages: intervaltree\n",
      "  Building wheel for intervaltree (setup.py) ... \u001b[?25l\u001b[?25hdone\n",
      "  Created wheel for intervaltree: filename=intervaltree-3.1.0-py2.py3-none-any.whl size=26102 sha256=2ebf2fe745648b6116032daa362816912c6b841ba054efbe4a3337d47855acaa\n",
      "  Stored in directory: /root/.cache/pip/wheels/f3/f2/66/e9c30d3e9499e65ea2fa0d07c002e64de63bd0adaa49c445bf\n",
      "Successfully built intervaltree\n",
      "Installing collected packages: dawg-python, pymorphy2-dicts-ru, pymorphy2, yargy, intervaltree, ipymarkup, natasha\n",
      "  Found existing installation: intervaltree 2.1.0\n",
      "    Uninstalling intervaltree-2.1.0:\n",
      "      Successfully uninstalled intervaltree-2.1.0\n",
      "Successfully installed dawg-python-0.7.2 intervaltree-3.1.0 ipymarkup-0.9.0 natasha-1.4.0 pymorphy2-0.9.1 pymorphy2-dicts-ru-2.4.417127.4579844 yargy-0.15.0\n"
     ]
    }
   ],
   "source": [
    "!pip install natasha\n",
    "from natasha import Doc, Segmenter, NewsEmbedding, NewsMorphTagger, MorphVocab"
   ]
  },
  {
   "cell_type": "code",
   "execution_count": 32,
   "metadata": {
    "executionInfo": {
     "elapsed": 400,
     "status": "ok",
     "timestamp": 1621697740644,
     "user": {
      "displayName": "zhibo zhang",
      "photoUrl": "https://lh3.googleusercontent.com/a-/AOh14Gh8_y4pfqR32K5ts_cWnnNmRU9hz13PqIdespQy=s64",
      "userId": "09431813280733956316"
     },
     "user_tz": -180
    },
    "id": "hypgUvvDtvph"
   },
   "outputs": [],
   "source": [
    "def n_lemmatize(text):\n",
    "    emb = NewsEmbedding()\n",
    "    morph_tagger = NewsMorphTagger(emb)\n",
    "    segmenter = Segmenter()\n",
    "    morph_vocab = MorphVocab()\n",
    "    doc = Doc(text)\n",
    "    doc.segment(segmenter)\n",
    "    doc.tag_morph(morph_tagger)\n",
    "    for token in doc.tokens:\n",
    "        token.lemmatize(morph_vocab)\n",
    "    return doc"
   ]
  },
  {
   "cell_type": "code",
   "execution_count": 35,
   "metadata": {
    "colab": {
     "base_uri": "https://localhost:8080/"
    },
    "executionInfo": {
     "elapsed": 5642,
     "status": "ok",
     "timestamp": 1621697780319,
     "user": {
      "displayName": "zhibo zhang",
      "photoUrl": "https://lh3.googleusercontent.com/a-/AOh14Gh8_y4pfqR32K5ts_cWnnNmRU9hz13PqIdespQy=s64",
      "userId": "09431813280733956316"
     },
     "user_tz": -180
    },
    "id": "JVwpO7kOt7uy",
    "outputId": "c0800581-0b1a-4c4f-ed19-2e039e708649"
   },
   "outputs": [
    {
     "data": {
      "text/plain": [
       "{'.': '.',\n",
       " '1889': '1889',\n",
       " '1907': '1907',\n",
       " '1909-1912': '1909-1912',\n",
       " '7': '7',\n",
       " 'В': 'в',\n",
       " 'Киевский': 'киевский',\n",
       " 'Он': 'он',\n",
       " 'Сикорский': 'сикорский',\n",
       " 'в': 'в',\n",
       " 'вертолёта': 'вертолет',\n",
       " 'года': 'год',\n",
       " 'годах': 'год',\n",
       " 'году': 'год',\n",
       " 'два': 'два',\n",
       " 'и': 'и',\n",
       " 'институт': 'институт',\n",
       " 'июня': 'июнь',\n",
       " 'политехнический': 'политехнический',\n",
       " 'построил': 'построить',\n",
       " 'поступил': 'поступить',\n",
       " 'родился': 'родиться',\n",
       " 'спроектировал': 'спроектировать',\n",
       " 'студент': 'студент'}"
      ]
     },
     "execution_count": 35,
     "metadata": {
      "tags": []
     },
     "output_type": "execute_result"
    }
   ],
   "source": [
    "n_doc = n_lemmatize(text)\n",
    "{_.text: _.lemma for _ in n_doc.tokens}"
   ]
  },
  {
   "cell_type": "markdown",
   "metadata": {
    "id": "TO2OHj8bt9Zn"
   },
   "source": [
    "# Выделение (распознавание) именованных сущностей, named-entity recognition (NER)"
   ]
  },
  {
   "cell_type": "code",
   "execution_count": 36,
   "metadata": {
    "executionInfo": {
     "elapsed": 516,
     "status": "ok",
     "timestamp": 1621697808915,
     "user": {
      "displayName": "zhibo zhang",
      "photoUrl": "https://lh3.googleusercontent.com/a-/AOh14Gh8_y4pfqR32K5ts_cWnnNmRU9hz13PqIdespQy=s64",
      "userId": "09431813280733956316"
     },
     "user_tz": -180
    },
    "id": "gkVp-KbiuJlS"
   },
   "outputs": [],
   "source": [
    "from slovnet import NER\n",
    "from ipymarkup import show_span_ascii_markup as show_markup"
   ]
  },
  {
   "cell_type": "code",
   "execution_count": 38,
   "metadata": {
    "executionInfo": {
     "elapsed": 2397,
     "status": "ok",
     "timestamp": 1621697875230,
     "user": {
      "displayName": "zhibo zhang",
      "photoUrl": "https://lh3.googleusercontent.com/a-/AOh14Gh8_y4pfqR32K5ts_cWnnNmRU9hz13PqIdespQy=s64",
      "userId": "09431813280733956316"
     },
     "user_tz": -180
    },
    "id": "5kROJ2R_uMTH"
   },
   "outputs": [],
   "source": [
    "ner = NER.load('slovnet_ner_news_v1.tar')"
   ]
  },
  {
   "cell_type": "code",
   "execution_count": 39,
   "metadata": {
    "executionInfo": {
     "elapsed": 397,
     "status": "ok",
     "timestamp": 1621697898693,
     "user": {
      "displayName": "zhibo zhang",
      "photoUrl": "https://lh3.googleusercontent.com/a-/AOh14Gh8_y4pfqR32K5ts_cWnnNmRU9hz13PqIdespQy=s64",
      "userId": "09431813280733956316"
     },
     "user_tz": -180
    },
    "id": "qJlUHAFkuOcP"
   },
   "outputs": [],
   "source": [
    "ner_res = ner.navec(navec)"
   ]
  },
  {
   "cell_type": "code",
   "execution_count": 41,
   "metadata": {
    "colab": {
     "base_uri": "https://localhost:8080/"
    },
    "executionInfo": {
     "elapsed": 450,
     "status": "ok",
     "timestamp": 1621697922918,
     "user": {
      "displayName": "zhibo zhang",
      "photoUrl": "https://lh3.googleusercontent.com/a-/AOh14Gh8_y4pfqR32K5ts_cWnnNmRU9hz13PqIdespQy=s64",
      "userId": "09431813280733956316"
     },
     "user_tz": -180
    },
    "id": "x9yFaoeLuiUS",
    "outputId": "bce93ec4-d252-41d7-d695-0e4e209229ec"
   },
   "outputs": [
    {
     "data": {
      "text/plain": [
       "SpanMarkup(\n",
       "    text='Сикорский родился 7 июня 1889 года. Он поступил в Киевский политехнический институт в 1907 году. В 1909-1912 годах студент Сикорский спроектировал и построил два вертолёта',\n",
       "    spans=[Span(\n",
       "         start=50,\n",
       "         stop=83,\n",
       "         type='ORG'\n",
       "     ), Span(\n",
       "         start=123,\n",
       "         stop=132,\n",
       "         type='PER'\n",
       "     )]\n",
       ")"
      ]
     },
     "execution_count": 41,
     "metadata": {
      "tags": []
     },
     "output_type": "execute_result"
    }
   ],
   "source": [
    "markup_ner = ner(text)\n",
    "markup_ner"
   ]
  },
  {
   "cell_type": "code",
   "execution_count": 42,
   "metadata": {
    "colab": {
     "base_uri": "https://localhost:8080/"
    },
    "executionInfo": {
     "elapsed": 443,
     "status": "ok",
     "timestamp": 1621697939517,
     "user": {
      "displayName": "zhibo zhang",
      "photoUrl": "https://lh3.googleusercontent.com/a-/AOh14Gh8_y4pfqR32K5ts_cWnnNmRU9hz13PqIdespQy=s64",
      "userId": "09431813280733956316"
     },
     "user_tz": -180
    },
    "id": "POrQOHTZupeM",
    "outputId": "2b5265b5-cad4-4306-bf85-d5281b768636"
   },
   "outputs": [
    {
     "name": "stdout",
     "output_type": "stream",
     "text": [
      "Сикорский родился 7 июня 1889 года. Он поступил в Киевский \n",
      "                                                  ORG──────\n",
      "политехнический институт в 1907 году. В 1909-1912 годах студент \n",
      "────────────────────────                                        \n",
      "Сикорский спроектировал и построил два вертолёта\n",
      "PER──────                                       \n"
     ]
    }
   ],
   "source": [
    "show_markup(markup_ner.text, markup_ner.spans)"
   ]
  },
  {
   "cell_type": "markdown",
   "metadata": {
    "id": "chwgbimwusQP"
   },
   "source": [
    "# Разбор предложения"
   ]
  },
  {
   "cell_type": "code",
   "execution_count": 43,
   "metadata": {
    "executionInfo": {
     "elapsed": 749,
     "status": "ok",
     "timestamp": 1621697970883,
     "user": {
      "displayName": "zhibo zhang",
      "photoUrl": "https://lh3.googleusercontent.com/a-/AOh14Gh8_y4pfqR32K5ts_cWnnNmRU9hz13PqIdespQy=s64",
      "userId": "09431813280733956316"
     },
     "user_tz": -180
    },
    "id": "FX9YFh13ux9E"
   },
   "outputs": [],
   "source": [
    "from natasha import NewsSyntaxParser"
   ]
  },
  {
   "cell_type": "code",
   "execution_count": 44,
   "metadata": {
    "executionInfo": {
     "elapsed": 1123,
     "status": "ok",
     "timestamp": 1621697978517,
     "user": {
      "displayName": "zhibo zhang",
      "photoUrl": "https://lh3.googleusercontent.com/a-/AOh14Gh8_y4pfqR32K5ts_cWnnNmRU9hz13PqIdespQy=s64",
      "userId": "09431813280733956316"
     },
     "user_tz": -180
    },
    "id": "nGDynLkguz1M"
   },
   "outputs": [],
   "source": [
    "emb = NewsEmbedding()\n",
    "syntax_parser = NewsSyntaxParser(emb)"
   ]
  },
  {
   "cell_type": "code",
   "execution_count": 45,
   "metadata": {
    "colab": {
     "base_uri": "https://localhost:8080/"
    },
    "executionInfo": {
     "elapsed": 525,
     "status": "ok",
     "timestamp": 1621697993312,
     "user": {
      "displayName": "zhibo zhang",
      "photoUrl": "https://lh3.googleusercontent.com/a-/AOh14Gh8_y4pfqR32K5ts_cWnnNmRU9hz13PqIdespQy=s64",
      "userId": "09431813280733956316"
     },
     "user_tz": -180
    },
    "id": "3Ce9m5nHu1jK",
    "outputId": "e7081dba-75bd-44bf-e4e9-f4b250727763"
   },
   "outputs": [
    {
     "name": "stdout",
     "output_type": "stream",
     "text": [
      "      ┌► Сикорский nsubj\n",
      "┌───┌─└─ родился   \n",
      "│ ┌─└►┌─ 7         obl\n",
      "│ │   └► июня      flat\n",
      "│ │   ┌► 1889      amod\n",
      "│ └──►└─ года      nmod\n",
      "└──────► .         punct\n"
     ]
    }
   ],
   "source": [
    "n_doc.parse_syntax(syntax_parser)\n",
    "n_doc.sents[0].syntax.print()"
   ]
  },
  {
   "cell_type": "code",
   "execution_count": 46,
   "metadata": {
    "colab": {
     "base_uri": "https://localhost:8080/"
    },
    "executionInfo": {
     "elapsed": 423,
     "status": "ok",
     "timestamp": 1621698009911,
     "user": {
      "displayName": "zhibo zhang",
      "photoUrl": "https://lh3.googleusercontent.com/a-/AOh14Gh8_y4pfqR32K5ts_cWnnNmRU9hz13PqIdespQy=s64",
      "userId": "09431813280733956316"
     },
     "user_tz": -180
    },
    "id": "pUoVyyiYu5XU",
    "outputId": "5516b822-d345-40a8-ce48-a6e624bda0c3"
   },
   "outputs": [
    {
     "name": "stdout",
     "output_type": "stream",
     "text": [
      "          ┌► Он              nsubj\n",
      "┌─┌─┌─────└─ поступил        \n",
      "│ │ │ ┌────► в               case\n",
      "│ │ │ │ ┌──► Киевский        amod\n",
      "│ │ │ │ │ ┌► политехнический amod\n",
      "│ │ └►└─└─└─ институт        obl\n",
      "│ │     ┌──► в               case\n",
      "│ │     │ ┌► 1907            amod\n",
      "│ └────►└─└─ году            obl\n",
      "└──────────► .               punct\n"
     ]
    }
   ],
   "source": [
    "n_doc.sents[1].syntax.print()"
   ]
  },
  {
   "cell_type": "code",
   "execution_count": 47,
   "metadata": {
    "colab": {
     "base_uri": "https://localhost:8080/"
    },
    "executionInfo": {
     "elapsed": 442,
     "status": "ok",
     "timestamp": 1621698019353,
     "user": {
      "displayName": "zhibo zhang",
      "photoUrl": "https://lh3.googleusercontent.com/a-/AOh14Gh8_y4pfqR32K5ts_cWnnNmRU9hz13PqIdespQy=s64",
      "userId": "09431813280733956316"
     },
     "user_tz": -180
    },
    "id": "yyF2czRNu9dO",
    "outputId": "4d9c99b7-c291-4979-beee-5c6183a233fa"
   },
   "outputs": [
    {
     "name": "stdout",
     "output_type": "stream",
     "text": [
      "    ┌──► В             case\n",
      "    │ ┌► 1909-1912     amod\n",
      "  ┌►└─└─ годах         obl\n",
      "  │ ┌──► студент       nsubj\n",
      "  │ │ ┌► Сикорский     nsubj\n",
      "  └─└─└─ спроектировал \n",
      "  │   ┌► и             cc\n",
      "┌─└──►└─ построил      conj\n",
      "│     ┌► два           nummod:gov\n",
      "└────►└─ вертолёта     obj\n"
     ]
    }
   ],
   "source": [
    "n_doc.sents[2].syntax.print()"
   ]
  },
  {
   "cell_type": "code",
   "execution_count": null,
   "metadata": {
    "id": "tYhQXipVu_ns"
   },
   "outputs": [],
   "source": []
  }
 ],
 "metadata": {
  "colab": {
   "authorship_tag": "ABX9TyPF6Kqk6/Rf1omqAU6gimZB",
   "collapsed_sections": [],
   "mount_file_id": "1NeGALBwOONDoL8KqA8FAw21pvPSZmn3A",
   "name": "Лаб5.ipynb",
   "provenance": []
  },
  "kernelspec": {
   "display_name": "Python 3 (ipykernel)",
   "language": "python",
   "name": "python3"
  },
  "language_info": {
   "codemirror_mode": {
    "name": "ipython",
    "version": 3
   },
   "file_extension": ".py",
   "mimetype": "text/x-python",
   "name": "python",
   "nbconvert_exporter": "python",
   "pygments_lexer": "ipython3",
   "version": "3.9.7"
  }
 },
 "nbformat": 4,
 "nbformat_minor": 4
}

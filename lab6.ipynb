{
  "cells": [
    {
      "cell_type": "markdown",
      "metadata": {
        "id": "BNQ0McEkN8lx"
      },
      "source": [
        "# **Лабораторная работа №6:**\n",
        "## \"Разработка системы предсказания поведения на основании графовых моделей\"\n",
        "\n",
        "---\n",
        "\n",
        "*Цель*: обучение работе с графовым типом данных и графовыми нейронными сетями.\n",
        "\n",
        "*Задача*: подготовить графовый датасет из базы данных о покупках и построить модель предсказания совершения покупки.\n",
        "\n",
        "---\n",
        "\n",
        "## Графовые нейронные сети\n",
        "\n",
        "**Графовые нейронные сети** - тип нейронной сети, которая напрямую работает со структурой графа. Типичным применениями GNN являются:\n",
        "- Классификация узлов;\n",
        "- Предсказание связей;\n",
        "- Графовая классификация;\n",
        "- Распознавание движений;\n",
        "- Рекомендательные системы.\n",
        "\n",
        "В данной лабораторной работе будет происходить работа над **графовыми сверточными сетями**. Отличаются они от сверточных нейронных сетей нефиксированной структурой, функция свертки не является .\n",
        "\n",
        "Подробнее можно прочитать тут: https://towardsdatascience.com/understanding-graph-convolutional-networks-for-node-classification-a2bfdb7aba7b\n",
        "\n",
        "Тут можно почитать современные подходы к использованию графовых сверточных сетей \n",
        "https://paperswithcode.com/method/gcn\n",
        "\n",
        "---\n",
        "\n",
        "## Датасет\n",
        "В качестве базы данных предлагаем использовать датасет о покупках пользователей в одном магазине товаров RecSys Challenge 2015 (https://www.kaggle.com/datasets/chadgostopp/recsys-challenge-2015). \n",
        "\n",
        "Скачать датасет можно отсюда: https://drive.google.com/drive/folders/1gtAeXPTj-c0RwVOKreMrZ3bfSmCwl2y-?usp=sharing\n",
        "(lite-версия является облегченной версией исходного датасета, рекомендуем использовать её)\n",
        "\n",
        "Также рекомендуем загружать данные в виде архива и распаковывать через пакет zipfile или/и скачивать датасет в собственный Google Drive и примонтировать его в колаб.\n",
        "\n",
        "---"
      ]
    },
    {
      "cell_type": "markdown",
      "metadata": {
        "id": "rbxaUgCSl4ZK"
      },
      "source": [
        "### Установка библиотек, выгрузка исходных датасетов"
      ]
    },
    {
      "cell_type": "code",
      "execution_count": null,
      "metadata": {
        "colab": {
          "base_uri": "https://localhost:8080/"
        },
        "id": "iCtRdgl7kjeF",
        "outputId": "182a7fa0-79c9-4bc8-f1fe-ee0ebff30ef4"
      },
      "outputs": [
        {
          "output_type": "stream",
          "name": "stdout",
          "text": [
            "Looking in links: https://pytorch-geometric.com/whl/torch-1.11.0%2Bcu113.html\n",
            "Requirement already satisfied: torch-sparse in /usr/local/lib/python3.7/dist-packages (0.6.13)\n",
            "Requirement already satisfied: scipy in /usr/local/lib/python3.7/dist-packages (from torch-sparse) (1.4.1)\n",
            "Requirement already satisfied: numpy>=1.13.3 in /usr/local/lib/python3.7/dist-packages (from scipy->torch-sparse) (1.21.6)\n",
            "Looking in links: https://pytorch-geometric.com/whl/torch-1.11.0%2Bcu113.html\n",
            "Requirement already satisfied: torch-cluster in /usr/local/lib/python3.7/dist-packages (1.6.0)\n",
            "Looking in links: https://pytorch-geometric.com/whl/torch-1.11.0%2Bcu113.html\n",
            "Requirement already satisfied: torch-spline-conv in /usr/local/lib/python3.7/dist-packages (1.2.1)\n",
            "Looking in links: https://pytorch-geometric.com/whl/torch-1.11.0%2Bcu113.html\n",
            "Requirement already satisfied: torch-geometric in /usr/local/lib/python3.7/dist-packages (2.0.4)\n",
            "Requirement already satisfied: tqdm in /usr/local/lib/python3.7/dist-packages (from torch-geometric) (4.64.0)\n",
            "Requirement already satisfied: requests in /usr/local/lib/python3.7/dist-packages (from torch-geometric) (2.23.0)\n",
            "Requirement already satisfied: numpy in /usr/local/lib/python3.7/dist-packages (from torch-geometric) (1.21.6)\n",
            "Requirement already satisfied: scipy in /usr/local/lib/python3.7/dist-packages (from torch-geometric) (1.4.1)\n",
            "Requirement already satisfied: pandas in /usr/local/lib/python3.7/dist-packages (from torch-geometric) (1.3.5)\n",
            "Requirement already satisfied: scikit-learn in /usr/local/lib/python3.7/dist-packages (from torch-geometric) (1.0.2)\n",
            "Requirement already satisfied: jinja2 in /usr/local/lib/python3.7/dist-packages (from torch-geometric) (2.11.3)\n",
            "Requirement already satisfied: pyparsing in /usr/local/lib/python3.7/dist-packages (from torch-geometric) (3.0.9)\n",
            "Requirement already satisfied: MarkupSafe>=0.23 in /usr/local/lib/python3.7/dist-packages (from jinja2->torch-geometric) (2.0.1)\n",
            "Requirement already satisfied: pytz>=2017.3 in /usr/local/lib/python3.7/dist-packages (from pandas->torch-geometric) (2022.1)\n",
            "Requirement already satisfied: python-dateutil>=2.7.3 in /usr/local/lib/python3.7/dist-packages (from pandas->torch-geometric) (2.8.2)\n",
            "Requirement already satisfied: six>=1.5 in /usr/local/lib/python3.7/dist-packages (from python-dateutil>=2.7.3->pandas->torch-geometric) (1.15.0)\n",
            "Requirement already satisfied: chardet<4,>=3.0.2 in /usr/local/lib/python3.7/dist-packages (from requests->torch-geometric) (3.0.4)\n",
            "Requirement already satisfied: idna<3,>=2.5 in /usr/local/lib/python3.7/dist-packages (from requests->torch-geometric) (2.10)\n",
            "Requirement already satisfied: certifi>=2017.4.17 in /usr/local/lib/python3.7/dist-packages (from requests->torch-geometric) (2021.10.8)\n",
            "Requirement already satisfied: urllib3!=1.25.0,!=1.25.1,<1.26,>=1.21.1 in /usr/local/lib/python3.7/dist-packages (from requests->torch-geometric) (1.24.3)\n",
            "Requirement already satisfied: joblib>=0.11 in /usr/local/lib/python3.7/dist-packages (from scikit-learn->torch-geometric) (1.1.0)\n",
            "Requirement already satisfied: threadpoolctl>=2.0.0 in /usr/local/lib/python3.7/dist-packages (from scikit-learn->torch-geometric) (3.1.0)\n",
            "Looking in links: https://data.pyg.org/whl/torch-1.11.0%2Bcu113.html\n",
            "Requirement already satisfied: torch-scatter==2.0.8 in /usr/local/lib/python3.7/dist-packages (2.0.8)\n"
          ]
        }
      ],
      "source": [
        "# Slow method of installing pytorch geometric\n",
        "# !pip install torch_geometric\n",
        "# !pip install torch_sparse\n",
        "# !pip install torch_scatter\n",
        "\n",
        "# Install pytorch geometric\n",
        "!pip install torch-sparse -f https://pytorch-geometric.com/whl/torch-1.11.0%2Bcu113.html\n",
        "!pip install torch-cluster -f https://pytorch-geometric.com/whl/torch-1.11.0%2Bcu113.html\n",
        "!pip install torch-spline-conv -f https://pytorch-geometric.com/whl/torch-1.11.0%2Bcu113.html\n",
        "!pip install torch-geometric -f https://pytorch-geometric.com/whl/torch-1.11.0%2Bcu113.html\n",
        "!pip install torch-scatter==2.0.8 -f https://data.pyg.org/whl/torch-1.11.0%2Bcu113.html"
      ]
    },
    {
      "cell_type": "code",
      "execution_count": null,
      "metadata": {
        "id": "zu_Eij2Qvpkx"
      },
      "outputs": [],
      "source": [
        "import numpy as np\n",
        "import pandas as pd\n",
        "import pickle\n",
        "import csv\n",
        "import os\n",
        "\n",
        "from sklearn.preprocessing import LabelEncoder\n",
        "\n",
        "import torch\n",
        "\n",
        "# PyG - PyTorch Geometric\n",
        "from torch_geometric.data import Data, DataLoader, InMemoryDataset\n",
        "\n",
        "from tqdm import tqdm\n",
        "\n",
        "\n",
        "RANDOM_SEED =  30#@param { type: \"integer\" }\n",
        "BASE_DIR = '/content/' #@param { type: \"string\" }\n",
        "np.random.seed(RANDOM_SEED) "
      ]
    },
    {
      "cell_type": "code",
      "execution_count": null,
      "metadata": {
        "colab": {
          "base_uri": "https://localhost:8080/"
        },
        "id": "Cez-y8ssoOGV",
        "outputId": "e74ad7a2-ae90-4c85-fdbd-c66c367c2ba4"
      },
      "outputs": [
        {
          "output_type": "execute_result",
          "data": {
            "text/plain": [
              "<function torch.cuda.is_available>"
            ]
          },
          "metadata": {},
          "execution_count": 3
        }
      ],
      "source": [
        "# Check if CUDA is available for colab\n",
        "torch.cuda.is_available"
      ]
    },
    {
      "cell_type": "code",
      "execution_count": null,
      "metadata": {
        "id": "eSCoxRCCRcWR"
      },
      "outputs": [],
      "source": [
        "# Unpack files from zip-file\n",
        "import zipfile\n",
        "with zipfile.ZipFile(BASE_DIR + 'yoochoose-data-lite.zip', 'r') as zip_ref:\n",
        "    zip_ref.extractall(BASE_DIR)"
      ]
    },
    {
      "cell_type": "markdown",
      "metadata": {
        "id": "pXjuYTjPFdOl"
      },
      "source": [
        "### Анализ исходных данных"
      ]
    },
    {
      "cell_type": "code",
      "execution_count": null,
      "metadata": {
        "colab": {
          "base_uri": "https://localhost:8080/",
          "height": 204
        },
        "id": "lXthpQBX9zKH",
        "outputId": "ae8fe328-b2c1-4974-aad3-f5c631895ca8"
      },
      "outputs": [
        {
          "output_type": "execute_result",
          "data": {
            "text/plain": [
              "   session_id                 timestamp      item_id  category\n",
              "0     3153234  2014-05-25T18:44:29.915Z  214839607.0       0.0\n",
              "1     3153234  2014-05-25T18:44:31.938Z  214839607.0       0.0\n",
              "2     3153234  2014-05-25T18:46:12.851Z  214836530.0       0.0\n",
              "3     3153234  2014-05-25T18:46:14.412Z  214836530.0       0.0\n",
              "4     3153232  2014-05-20T13:33:59.293Z  214800264.0       0.0"
            ],
            "text/html": [
              "\n",
              "  <div id=\"df-8b9ff74f-d1e5-4a18-976e-7350c64cc75f\">\n",
              "    <div class=\"colab-df-container\">\n",
              "      <div>\n",
              "<style scoped>\n",
              "    .dataframe tbody tr th:only-of-type {\n",
              "        vertical-align: middle;\n",
              "    }\n",
              "\n",
              "    .dataframe tbody tr th {\n",
              "        vertical-align: top;\n",
              "    }\n",
              "\n",
              "    .dataframe thead th {\n",
              "        text-align: right;\n",
              "    }\n",
              "</style>\n",
              "<table border=\"1\" class=\"dataframe\">\n",
              "  <thead>\n",
              "    <tr style=\"text-align: right;\">\n",
              "      <th></th>\n",
              "      <th>session_id</th>\n",
              "      <th>timestamp</th>\n",
              "      <th>item_id</th>\n",
              "      <th>category</th>\n",
              "    </tr>\n",
              "  </thead>\n",
              "  <tbody>\n",
              "    <tr>\n",
              "      <th>0</th>\n",
              "      <td>3153234</td>\n",
              "      <td>2014-05-25T18:44:29.915Z</td>\n",
              "      <td>214839607.0</td>\n",
              "      <td>0.0</td>\n",
              "    </tr>\n",
              "    <tr>\n",
              "      <th>1</th>\n",
              "      <td>3153234</td>\n",
              "      <td>2014-05-25T18:44:31.938Z</td>\n",
              "      <td>214839607.0</td>\n",
              "      <td>0.0</td>\n",
              "    </tr>\n",
              "    <tr>\n",
              "      <th>2</th>\n",
              "      <td>3153234</td>\n",
              "      <td>2014-05-25T18:46:12.851Z</td>\n",
              "      <td>214836530.0</td>\n",
              "      <td>0.0</td>\n",
              "    </tr>\n",
              "    <tr>\n",
              "      <th>3</th>\n",
              "      <td>3153234</td>\n",
              "      <td>2014-05-25T18:46:14.412Z</td>\n",
              "      <td>214836530.0</td>\n",
              "      <td>0.0</td>\n",
              "    </tr>\n",
              "    <tr>\n",
              "      <th>4</th>\n",
              "      <td>3153232</td>\n",
              "      <td>2014-05-20T13:33:59.293Z</td>\n",
              "      <td>214800264.0</td>\n",
              "      <td>0.0</td>\n",
              "    </tr>\n",
              "  </tbody>\n",
              "</table>\n",
              "</div>\n",
              "      <button class=\"colab-df-convert\" onclick=\"convertToInteractive('df-8b9ff74f-d1e5-4a18-976e-7350c64cc75f')\"\n",
              "              title=\"Convert this dataframe to an interactive table.\"\n",
              "              style=\"display:none;\">\n",
              "        \n",
              "  <svg xmlns=\"http://www.w3.org/2000/svg\" height=\"24px\"viewBox=\"0 0 24 24\"\n",
              "       width=\"24px\">\n",
              "    <path d=\"M0 0h24v24H0V0z\" fill=\"none\"/>\n",
              "    <path d=\"M18.56 5.44l.94 2.06.94-2.06 2.06-.94-2.06-.94-.94-2.06-.94 2.06-2.06.94zm-11 1L8.5 8.5l.94-2.06 2.06-.94-2.06-.94L8.5 2.5l-.94 2.06-2.06.94zm10 10l.94 2.06.94-2.06 2.06-.94-2.06-.94-.94-2.06-.94 2.06-2.06.94z\"/><path d=\"M17.41 7.96l-1.37-1.37c-.4-.4-.92-.59-1.43-.59-.52 0-1.04.2-1.43.59L10.3 9.45l-7.72 7.72c-.78.78-.78 2.05 0 2.83L4 21.41c.39.39.9.59 1.41.59.51 0 1.02-.2 1.41-.59l7.78-7.78 2.81-2.81c.8-.78.8-2.07 0-2.86zM5.41 20L4 18.59l7.72-7.72 1.47 1.35L5.41 20z\"/>\n",
              "  </svg>\n",
              "      </button>\n",
              "      \n",
              "  <style>\n",
              "    .colab-df-container {\n",
              "      display:flex;\n",
              "      flex-wrap:wrap;\n",
              "      gap: 12px;\n",
              "    }\n",
              "\n",
              "    .colab-df-convert {\n",
              "      background-color: #E8F0FE;\n",
              "      border: none;\n",
              "      border-radius: 50%;\n",
              "      cursor: pointer;\n",
              "      display: none;\n",
              "      fill: #1967D2;\n",
              "      height: 32px;\n",
              "      padding: 0 0 0 0;\n",
              "      width: 32px;\n",
              "    }\n",
              "\n",
              "    .colab-df-convert:hover {\n",
              "      background-color: #E2EBFA;\n",
              "      box-shadow: 0px 1px 2px rgba(60, 64, 67, 0.3), 0px 1px 3px 1px rgba(60, 64, 67, 0.15);\n",
              "      fill: #174EA6;\n",
              "    }\n",
              "\n",
              "    [theme=dark] .colab-df-convert {\n",
              "      background-color: #3B4455;\n",
              "      fill: #D2E3FC;\n",
              "    }\n",
              "\n",
              "    [theme=dark] .colab-df-convert:hover {\n",
              "      background-color: #434B5C;\n",
              "      box-shadow: 0px 1px 3px 1px rgba(0, 0, 0, 0.15);\n",
              "      filter: drop-shadow(0px 1px 2px rgba(0, 0, 0, 0.3));\n",
              "      fill: #FFFFFF;\n",
              "    }\n",
              "  </style>\n",
              "\n",
              "      <script>\n",
              "        const buttonEl =\n",
              "          document.querySelector('#df-8b9ff74f-d1e5-4a18-976e-7350c64cc75f button.colab-df-convert');\n",
              "        buttonEl.style.display =\n",
              "          google.colab.kernel.accessAllowed ? 'block' : 'none';\n",
              "\n",
              "        async function convertToInteractive(key) {\n",
              "          const element = document.querySelector('#df-8b9ff74f-d1e5-4a18-976e-7350c64cc75f');\n",
              "          const dataTable =\n",
              "            await google.colab.kernel.invokeFunction('convertToInteractive',\n",
              "                                                     [key], {});\n",
              "          if (!dataTable) return;\n",
              "\n",
              "          const docLinkHtml = 'Like what you see? Visit the ' +\n",
              "            '<a target=\"_blank\" href=https://colab.research.google.com/notebooks/data_table.ipynb>data table notebook</a>'\n",
              "            + ' to learn more about interactive tables.';\n",
              "          element.innerHTML = '';\n",
              "          dataTable['output_type'] = 'display_data';\n",
              "          await google.colab.output.renderOutput(dataTable, element);\n",
              "          const docLink = document.createElement('div');\n",
              "          docLink.innerHTML = docLinkHtml;\n",
              "          element.appendChild(docLink);\n",
              "        }\n",
              "      </script>\n",
              "    </div>\n",
              "  </div>\n",
              "  "
            ]
          },
          "metadata": {},
          "execution_count": 32
        }
      ],
      "source": [
        "# Read dataset of items in store\n",
        "df = pd.read_csv(BASE_DIR + 'yoochoose-clicks-lite.dat')\n",
        "df.columns = ['session_id', 'timestamp', 'item_id', 'category'] \n",
        "df.head()"
      ]
    },
    {
      "cell_type": "code",
      "execution_count": null,
      "metadata": {
        "colab": {
          "base_uri": "https://localhost:8080/",
          "height": 204
        },
        "id": "JwHMXnNlvpk2",
        "outputId": "bfb0982c-4ec0-4cdb-93c3-97f6d4c52ef4"
      },
      "outputs": [
        {
          "output_type": "execute_result",
          "data": {
            "text/plain": [
              "   session_id                 timestamp    item_id  price  quantity\n",
              "0      420374  2014-04-06T18:44:58.314Z  214537888  12462         1\n",
              "1      420374  2014-04-06T18:44:58.325Z  214537850  10471         1\n",
              "2      489758  2014-04-06T09:59:52.422Z  214826955   1360         2\n",
              "3      489758  2014-04-06T09:59:52.476Z  214826715    732         2\n",
              "4      489758  2014-04-06T09:59:52.578Z  214827026   1046         1"
            ],
            "text/html": [
              "\n",
              "  <div id=\"df-fc933121-d541-4509-8a76-575409a50f6b\">\n",
              "    <div class=\"colab-df-container\">\n",
              "      <div>\n",
              "<style scoped>\n",
              "    .dataframe tbody tr th:only-of-type {\n",
              "        vertical-align: middle;\n",
              "    }\n",
              "\n",
              "    .dataframe tbody tr th {\n",
              "        vertical-align: top;\n",
              "    }\n",
              "\n",
              "    .dataframe thead th {\n",
              "        text-align: right;\n",
              "    }\n",
              "</style>\n",
              "<table border=\"1\" class=\"dataframe\">\n",
              "  <thead>\n",
              "    <tr style=\"text-align: right;\">\n",
              "      <th></th>\n",
              "      <th>session_id</th>\n",
              "      <th>timestamp</th>\n",
              "      <th>item_id</th>\n",
              "      <th>price</th>\n",
              "      <th>quantity</th>\n",
              "    </tr>\n",
              "  </thead>\n",
              "  <tbody>\n",
              "    <tr>\n",
              "      <th>0</th>\n",
              "      <td>420374</td>\n",
              "      <td>2014-04-06T18:44:58.314Z</td>\n",
              "      <td>214537888</td>\n",
              "      <td>12462</td>\n",
              "      <td>1</td>\n",
              "    </tr>\n",
              "    <tr>\n",
              "      <th>1</th>\n",
              "      <td>420374</td>\n",
              "      <td>2014-04-06T18:44:58.325Z</td>\n",
              "      <td>214537850</td>\n",
              "      <td>10471</td>\n",
              "      <td>1</td>\n",
              "    </tr>\n",
              "    <tr>\n",
              "      <th>2</th>\n",
              "      <td>489758</td>\n",
              "      <td>2014-04-06T09:59:52.422Z</td>\n",
              "      <td>214826955</td>\n",
              "      <td>1360</td>\n",
              "      <td>2</td>\n",
              "    </tr>\n",
              "    <tr>\n",
              "      <th>3</th>\n",
              "      <td>489758</td>\n",
              "      <td>2014-04-06T09:59:52.476Z</td>\n",
              "      <td>214826715</td>\n",
              "      <td>732</td>\n",
              "      <td>2</td>\n",
              "    </tr>\n",
              "    <tr>\n",
              "      <th>4</th>\n",
              "      <td>489758</td>\n",
              "      <td>2014-04-06T09:59:52.578Z</td>\n",
              "      <td>214827026</td>\n",
              "      <td>1046</td>\n",
              "      <td>1</td>\n",
              "    </tr>\n",
              "  </tbody>\n",
              "</table>\n",
              "</div>\n",
              "      <button class=\"colab-df-convert\" onclick=\"convertToInteractive('df-fc933121-d541-4509-8a76-575409a50f6b')\"\n",
              "              title=\"Convert this dataframe to an interactive table.\"\n",
              "              style=\"display:none;\">\n",
              "        \n",
              "  <svg xmlns=\"http://www.w3.org/2000/svg\" height=\"24px\"viewBox=\"0 0 24 24\"\n",
              "       width=\"24px\">\n",
              "    <path d=\"M0 0h24v24H0V0z\" fill=\"none\"/>\n",
              "    <path d=\"M18.56 5.44l.94 2.06.94-2.06 2.06-.94-2.06-.94-.94-2.06-.94 2.06-2.06.94zm-11 1L8.5 8.5l.94-2.06 2.06-.94-2.06-.94L8.5 2.5l-.94 2.06-2.06.94zm10 10l.94 2.06.94-2.06 2.06-.94-2.06-.94-.94-2.06-.94 2.06-2.06.94z\"/><path d=\"M17.41 7.96l-1.37-1.37c-.4-.4-.92-.59-1.43-.59-.52 0-1.04.2-1.43.59L10.3 9.45l-7.72 7.72c-.78.78-.78 2.05 0 2.83L4 21.41c.39.39.9.59 1.41.59.51 0 1.02-.2 1.41-.59l7.78-7.78 2.81-2.81c.8-.78.8-2.07 0-2.86zM5.41 20L4 18.59l7.72-7.72 1.47 1.35L5.41 20z\"/>\n",
              "  </svg>\n",
              "      </button>\n",
              "      \n",
              "  <style>\n",
              "    .colab-df-container {\n",
              "      display:flex;\n",
              "      flex-wrap:wrap;\n",
              "      gap: 12px;\n",
              "    }\n",
              "\n",
              "    .colab-df-convert {\n",
              "      background-color: #E8F0FE;\n",
              "      border: none;\n",
              "      border-radius: 50%;\n",
              "      cursor: pointer;\n",
              "      display: none;\n",
              "      fill: #1967D2;\n",
              "      height: 32px;\n",
              "      padding: 0 0 0 0;\n",
              "      width: 32px;\n",
              "    }\n",
              "\n",
              "    .colab-df-convert:hover {\n",
              "      background-color: #E2EBFA;\n",
              "      box-shadow: 0px 1px 2px rgba(60, 64, 67, 0.3), 0px 1px 3px 1px rgba(60, 64, 67, 0.15);\n",
              "      fill: #174EA6;\n",
              "    }\n",
              "\n",
              "    [theme=dark] .colab-df-convert {\n",
              "      background-color: #3B4455;\n",
              "      fill: #D2E3FC;\n",
              "    }\n",
              "\n",
              "    [theme=dark] .colab-df-convert:hover {\n",
              "      background-color: #434B5C;\n",
              "      box-shadow: 0px 1px 3px 1px rgba(0, 0, 0, 0.15);\n",
              "      filter: drop-shadow(0px 1px 2px rgba(0, 0, 0, 0.3));\n",
              "      fill: #FFFFFF;\n",
              "    }\n",
              "  </style>\n",
              "\n",
              "      <script>\n",
              "        const buttonEl =\n",
              "          document.querySelector('#df-fc933121-d541-4509-8a76-575409a50f6b button.colab-df-convert');\n",
              "        buttonEl.style.display =\n",
              "          google.colab.kernel.accessAllowed ? 'block' : 'none';\n",
              "\n",
              "        async function convertToInteractive(key) {\n",
              "          const element = document.querySelector('#df-fc933121-d541-4509-8a76-575409a50f6b');\n",
              "          const dataTable =\n",
              "            await google.colab.kernel.invokeFunction('convertToInteractive',\n",
              "                                                     [key], {});\n",
              "          if (!dataTable) return;\n",
              "\n",
              "          const docLinkHtml = 'Like what you see? Visit the ' +\n",
              "            '<a target=\"_blank\" href=https://colab.research.google.com/notebooks/data_table.ipynb>data table notebook</a>'\n",
              "            + ' to learn more about interactive tables.';\n",
              "          element.innerHTML = '';\n",
              "          dataTable['output_type'] = 'display_data';\n",
              "          await google.colab.output.renderOutput(dataTable, element);\n",
              "          const docLink = document.createElement('div');\n",
              "          docLink.innerHTML = docLinkHtml;\n",
              "          element.appendChild(docLink);\n",
              "        }\n",
              "      </script>\n",
              "    </div>\n",
              "  </div>\n",
              "  "
            ]
          },
          "metadata": {},
          "execution_count": 6
        }
      ],
      "source": [
        "# Read dataset of purchases\n",
        "buy_df = pd.read_csv(BASE_DIR + 'yoochoose-buys-lite.dat')\n",
        "buy_df.columns = ['session_id', 'timestamp', 'item_id', 'price', 'quantity']\n",
        "buy_df.head()"
      ]
    },
    {
      "cell_type": "code",
      "execution_count": null,
      "metadata": {
        "id": "ENE_n4lLvpk2",
        "colab": {
          "base_uri": "https://localhost:8080/"
        },
        "outputId": "0ce7889b-2690-4744-8c2a-0228f7bd117f"
      },
      "outputs": [
        {
          "output_type": "execute_result",
          "data": {
            "text/plain": [
              "session_id     4262\n",
              "timestamp     22792\n",
              "item_id        5084\n",
              "category          1\n",
              "dtype: int64"
            ]
          },
          "metadata": {},
          "execution_count": 7
        }
      ],
      "source": [
        "# Filter out item session with length < 2\n",
        "df['valid_session'] = df.session_id.map(df.groupby('session_id')['item_id'].size() > 2)\n",
        "df = df.loc[df.valid_session].drop('valid_session',axis=1)\n",
        "df.nunique()"
      ]
    },
    {
      "cell_type": "code",
      "execution_count": null,
      "metadata": {
        "id": "-bC3IJYQvpk3",
        "scrolled": true,
        "colab": {
          "base_uri": "https://localhost:8080/"
        },
        "outputId": "d16067f5-5e57-47b6-bf35-1a544174e83f"
      },
      "outputs": [
        {
          "output_type": "execute_result",
          "data": {
            "text/plain": [
              "session_id     4000\n",
              "timestamp     21300\n",
              "item_id        4873\n",
              "category          1\n",
              "dtype: int64"
            ]
          },
          "metadata": {},
          "execution_count": 8
        }
      ],
      "source": [
        "# Randomly sample a couple of them\n",
        "NUM_SESSIONS =  4000#@param { type: \"integer\" }\n",
        "sampled_session_id = np.random.choice(df.session_id.unique(), NUM_SESSIONS, replace=False)\n",
        "df = df.loc[df.session_id.isin(sampled_session_id)]\n",
        "df.nunique()"
      ]
    },
    {
      "cell_type": "code",
      "execution_count": null,
      "metadata": {
        "colab": {
          "base_uri": "https://localhost:8080/"
        },
        "id": "zVz-DwENvpk3",
        "outputId": "d7f70986-b57f-464f-c257-583f5e480f09"
      },
      "outputs": [
        {
          "output_type": "execute_result",
          "data": {
            "text/plain": [
              "5.3255"
            ]
          },
          "metadata": {},
          "execution_count": 9
        }
      ],
      "source": [
        "# Average length of session\n",
        "df.groupby('session_id')['item_id'].size().mean()"
      ]
    },
    {
      "cell_type": "code",
      "execution_count": null,
      "metadata": {
        "colab": {
          "base_uri": "https://localhost:8080/",
          "height": 204
        },
        "id": "OIqelMBYvpk4",
        "outputId": "1061518b-c9b0-4cc6-843c-e38ff27088f7"
      },
      "outputs": [
        {
          "output_type": "execute_result",
          "data": {
            "text/plain": [
              "   session_id                 timestamp  item_id  category\n",
              "0     3153234  2014-05-25T18:44:29.915Z     4567         0\n",
              "1     3153234  2014-05-25T18:44:31.938Z     4567         0\n",
              "2     3153234  2014-05-25T18:46:12.851Z     4316         0\n",
              "3     3153234  2014-05-25T18:46:14.412Z     4316         0\n",
              "4     3153232  2014-05-20T13:33:59.293Z     3661         0"
            ],
            "text/html": [
              "\n",
              "  <div id=\"df-fd5acb7c-e415-40a1-b109-d512e1b3b443\">\n",
              "    <div class=\"colab-df-container\">\n",
              "      <div>\n",
              "<style scoped>\n",
              "    .dataframe tbody tr th:only-of-type {\n",
              "        vertical-align: middle;\n",
              "    }\n",
              "\n",
              "    .dataframe tbody tr th {\n",
              "        vertical-align: top;\n",
              "    }\n",
              "\n",
              "    .dataframe thead th {\n",
              "        text-align: right;\n",
              "    }\n",
              "</style>\n",
              "<table border=\"1\" class=\"dataframe\">\n",
              "  <thead>\n",
              "    <tr style=\"text-align: right;\">\n",
              "      <th></th>\n",
              "      <th>session_id</th>\n",
              "      <th>timestamp</th>\n",
              "      <th>item_id</th>\n",
              "      <th>category</th>\n",
              "    </tr>\n",
              "  </thead>\n",
              "  <tbody>\n",
              "    <tr>\n",
              "      <th>0</th>\n",
              "      <td>3153234</td>\n",
              "      <td>2014-05-25T18:44:29.915Z</td>\n",
              "      <td>4567</td>\n",
              "      <td>0</td>\n",
              "    </tr>\n",
              "    <tr>\n",
              "      <th>1</th>\n",
              "      <td>3153234</td>\n",
              "      <td>2014-05-25T18:44:31.938Z</td>\n",
              "      <td>4567</td>\n",
              "      <td>0</td>\n",
              "    </tr>\n",
              "    <tr>\n",
              "      <th>2</th>\n",
              "      <td>3153234</td>\n",
              "      <td>2014-05-25T18:46:12.851Z</td>\n",
              "      <td>4316</td>\n",
              "      <td>0</td>\n",
              "    </tr>\n",
              "    <tr>\n",
              "      <th>3</th>\n",
              "      <td>3153234</td>\n",
              "      <td>2014-05-25T18:46:14.412Z</td>\n",
              "      <td>4316</td>\n",
              "      <td>0</td>\n",
              "    </tr>\n",
              "    <tr>\n",
              "      <th>4</th>\n",
              "      <td>3153232</td>\n",
              "      <td>2014-05-20T13:33:59.293Z</td>\n",
              "      <td>3661</td>\n",
              "      <td>0</td>\n",
              "    </tr>\n",
              "  </tbody>\n",
              "</table>\n",
              "</div>\n",
              "      <button class=\"colab-df-convert\" onclick=\"convertToInteractive('df-fd5acb7c-e415-40a1-b109-d512e1b3b443')\"\n",
              "              title=\"Convert this dataframe to an interactive table.\"\n",
              "              style=\"display:none;\">\n",
              "        \n",
              "  <svg xmlns=\"http://www.w3.org/2000/svg\" height=\"24px\"viewBox=\"0 0 24 24\"\n",
              "       width=\"24px\">\n",
              "    <path d=\"M0 0h24v24H0V0z\" fill=\"none\"/>\n",
              "    <path d=\"M18.56 5.44l.94 2.06.94-2.06 2.06-.94-2.06-.94-.94-2.06-.94 2.06-2.06.94zm-11 1L8.5 8.5l.94-2.06 2.06-.94-2.06-.94L8.5 2.5l-.94 2.06-2.06.94zm10 10l.94 2.06.94-2.06 2.06-.94-2.06-.94-.94-2.06-.94 2.06-2.06.94z\"/><path d=\"M17.41 7.96l-1.37-1.37c-.4-.4-.92-.59-1.43-.59-.52 0-1.04.2-1.43.59L10.3 9.45l-7.72 7.72c-.78.78-.78 2.05 0 2.83L4 21.41c.39.39.9.59 1.41.59.51 0 1.02-.2 1.41-.59l7.78-7.78 2.81-2.81c.8-.78.8-2.07 0-2.86zM5.41 20L4 18.59l7.72-7.72 1.47 1.35L5.41 20z\"/>\n",
              "  </svg>\n",
              "      </button>\n",
              "      \n",
              "  <style>\n",
              "    .colab-df-container {\n",
              "      display:flex;\n",
              "      flex-wrap:wrap;\n",
              "      gap: 12px;\n",
              "    }\n",
              "\n",
              "    .colab-df-convert {\n",
              "      background-color: #E8F0FE;\n",
              "      border: none;\n",
              "      border-radius: 50%;\n",
              "      cursor: pointer;\n",
              "      display: none;\n",
              "      fill: #1967D2;\n",
              "      height: 32px;\n",
              "      padding: 0 0 0 0;\n",
              "      width: 32px;\n",
              "    }\n",
              "\n",
              "    .colab-df-convert:hover {\n",
              "      background-color: #E2EBFA;\n",
              "      box-shadow: 0px 1px 2px rgba(60, 64, 67, 0.3), 0px 1px 3px 1px rgba(60, 64, 67, 0.15);\n",
              "      fill: #174EA6;\n",
              "    }\n",
              "\n",
              "    [theme=dark] .colab-df-convert {\n",
              "      background-color: #3B4455;\n",
              "      fill: #D2E3FC;\n",
              "    }\n",
              "\n",
              "    [theme=dark] .colab-df-convert:hover {\n",
              "      background-color: #434B5C;\n",
              "      box-shadow: 0px 1px 3px 1px rgba(0, 0, 0, 0.15);\n",
              "      filter: drop-shadow(0px 1px 2px rgba(0, 0, 0, 0.3));\n",
              "      fill: #FFFFFF;\n",
              "    }\n",
              "  </style>\n",
              "\n",
              "      <script>\n",
              "        const buttonEl =\n",
              "          document.querySelector('#df-fd5acb7c-e415-40a1-b109-d512e1b3b443 button.colab-df-convert');\n",
              "        buttonEl.style.display =\n",
              "          google.colab.kernel.accessAllowed ? 'block' : 'none';\n",
              "\n",
              "        async function convertToInteractive(key) {\n",
              "          const element = document.querySelector('#df-fd5acb7c-e415-40a1-b109-d512e1b3b443');\n",
              "          const dataTable =\n",
              "            await google.colab.kernel.invokeFunction('convertToInteractive',\n",
              "                                                     [key], {});\n",
              "          if (!dataTable) return;\n",
              "\n",
              "          const docLinkHtml = 'Like what you see? Visit the ' +\n",
              "            '<a target=\"_blank\" href=https://colab.research.google.com/notebooks/data_table.ipynb>data table notebook</a>'\n",
              "            + ' to learn more about interactive tables.';\n",
              "          element.innerHTML = '';\n",
              "          dataTable['output_type'] = 'display_data';\n",
              "          await google.colab.output.renderOutput(dataTable, element);\n",
              "          const docLink = document.createElement('div');\n",
              "          docLink.innerHTML = docLinkHtml;\n",
              "          element.appendChild(docLink);\n",
              "        }\n",
              "      </script>\n",
              "    </div>\n",
              "  </div>\n",
              "  "
            ]
          },
          "metadata": {},
          "execution_count": 37
        }
      ],
      "source": [
        "# Encode item and category id in item dataset so that ids will be in range (0,len(df.item.unique()))\n",
        "item_encoder = LabelEncoder()\n",
        "category_encoder = LabelEncoder()\n",
        "df['item_id'] = item_encoder.fit_transform(df.item_id)\n",
        "df['category']= category_encoder.fit_transform(df.category.apply(str))\n",
        "df.head()"
      ]
    },
    {
      "cell_type": "code",
      "execution_count": null,
      "metadata": {
        "colab": {
          "base_uri": "https://localhost:8080/",
          "height": 204
        },
        "id": "Gn5n37mBvpk5",
        "outputId": "2e3a14e9-d30c-433b-f8c5-b3d228ae203a",
        "scrolled": true
      },
      "outputs": [
        {
          "output_type": "execute_result",
          "data": {
            "text/plain": [
              "       session_id                 timestamp  item_id  price  quantity\n",
              "59565     3542963  2014-05-22T18:25:58.856Z     4131      0         0\n",
              "59571     3542969  2014-05-23T19:54:15.427Z     2598      0         0\n",
              "59580     3206154  2014-05-25T14:54:13.961Z     1329      0         0\n",
              "59603     3206236  2014-05-23T10:54:30.684Z     1698      0         0\n",
              "59617     3542791  2014-05-24T15:59:27.184Z     4775      0         0"
            ],
            "text/html": [
              "\n",
              "  <div id=\"df-74269642-6d58-4ca2-a811-3532c5cf08a3\">\n",
              "    <div class=\"colab-df-container\">\n",
              "      <div>\n",
              "<style scoped>\n",
              "    .dataframe tbody tr th:only-of-type {\n",
              "        vertical-align: middle;\n",
              "    }\n",
              "\n",
              "    .dataframe tbody tr th {\n",
              "        vertical-align: top;\n",
              "    }\n",
              "\n",
              "    .dataframe thead th {\n",
              "        text-align: right;\n",
              "    }\n",
              "</style>\n",
              "<table border=\"1\" class=\"dataframe\">\n",
              "  <thead>\n",
              "    <tr style=\"text-align: right;\">\n",
              "      <th></th>\n",
              "      <th>session_id</th>\n",
              "      <th>timestamp</th>\n",
              "      <th>item_id</th>\n",
              "      <th>price</th>\n",
              "      <th>quantity</th>\n",
              "    </tr>\n",
              "  </thead>\n",
              "  <tbody>\n",
              "    <tr>\n",
              "      <th>59565</th>\n",
              "      <td>3542963</td>\n",
              "      <td>2014-05-22T18:25:58.856Z</td>\n",
              "      <td>4131</td>\n",
              "      <td>0</td>\n",
              "      <td>0</td>\n",
              "    </tr>\n",
              "    <tr>\n",
              "      <th>59571</th>\n",
              "      <td>3542969</td>\n",
              "      <td>2014-05-23T19:54:15.427Z</td>\n",
              "      <td>2598</td>\n",
              "      <td>0</td>\n",
              "      <td>0</td>\n",
              "    </tr>\n",
              "    <tr>\n",
              "      <th>59580</th>\n",
              "      <td>3206154</td>\n",
              "      <td>2014-05-25T14:54:13.961Z</td>\n",
              "      <td>1329</td>\n",
              "      <td>0</td>\n",
              "      <td>0</td>\n",
              "    </tr>\n",
              "    <tr>\n",
              "      <th>59603</th>\n",
              "      <td>3206236</td>\n",
              "      <td>2014-05-23T10:54:30.684Z</td>\n",
              "      <td>1698</td>\n",
              "      <td>0</td>\n",
              "      <td>0</td>\n",
              "    </tr>\n",
              "    <tr>\n",
              "      <th>59617</th>\n",
              "      <td>3542791</td>\n",
              "      <td>2014-05-24T15:59:27.184Z</td>\n",
              "      <td>4775</td>\n",
              "      <td>0</td>\n",
              "      <td>0</td>\n",
              "    </tr>\n",
              "  </tbody>\n",
              "</table>\n",
              "</div>\n",
              "      <button class=\"colab-df-convert\" onclick=\"convertToInteractive('df-74269642-6d58-4ca2-a811-3532c5cf08a3')\"\n",
              "              title=\"Convert this dataframe to an interactive table.\"\n",
              "              style=\"display:none;\">\n",
              "        \n",
              "  <svg xmlns=\"http://www.w3.org/2000/svg\" height=\"24px\"viewBox=\"0 0 24 24\"\n",
              "       width=\"24px\">\n",
              "    <path d=\"M0 0h24v24H0V0z\" fill=\"none\"/>\n",
              "    <path d=\"M18.56 5.44l.94 2.06.94-2.06 2.06-.94-2.06-.94-.94-2.06-.94 2.06-2.06.94zm-11 1L8.5 8.5l.94-2.06 2.06-.94-2.06-.94L8.5 2.5l-.94 2.06-2.06.94zm10 10l.94 2.06.94-2.06 2.06-.94-2.06-.94-.94-2.06-.94 2.06-2.06.94z\"/><path d=\"M17.41 7.96l-1.37-1.37c-.4-.4-.92-.59-1.43-.59-.52 0-1.04.2-1.43.59L10.3 9.45l-7.72 7.72c-.78.78-.78 2.05 0 2.83L4 21.41c.39.39.9.59 1.41.59.51 0 1.02-.2 1.41-.59l7.78-7.78 2.81-2.81c.8-.78.8-2.07 0-2.86zM5.41 20L4 18.59l7.72-7.72 1.47 1.35L5.41 20z\"/>\n",
              "  </svg>\n",
              "      </button>\n",
              "      \n",
              "  <style>\n",
              "    .colab-df-container {\n",
              "      display:flex;\n",
              "      flex-wrap:wrap;\n",
              "      gap: 12px;\n",
              "    }\n",
              "\n",
              "    .colab-df-convert {\n",
              "      background-color: #E8F0FE;\n",
              "      border: none;\n",
              "      border-radius: 50%;\n",
              "      cursor: pointer;\n",
              "      display: none;\n",
              "      fill: #1967D2;\n",
              "      height: 32px;\n",
              "      padding: 0 0 0 0;\n",
              "      width: 32px;\n",
              "    }\n",
              "\n",
              "    .colab-df-convert:hover {\n",
              "      background-color: #E2EBFA;\n",
              "      box-shadow: 0px 1px 2px rgba(60, 64, 67, 0.3), 0px 1px 3px 1px rgba(60, 64, 67, 0.15);\n",
              "      fill: #174EA6;\n",
              "    }\n",
              "\n",
              "    [theme=dark] .colab-df-convert {\n",
              "      background-color: #3B4455;\n",
              "      fill: #D2E3FC;\n",
              "    }\n",
              "\n",
              "    [theme=dark] .colab-df-convert:hover {\n",
              "      background-color: #434B5C;\n",
              "      box-shadow: 0px 1px 3px 1px rgba(0, 0, 0, 0.15);\n",
              "      filter: drop-shadow(0px 1px 2px rgba(0, 0, 0, 0.3));\n",
              "      fill: #FFFFFF;\n",
              "    }\n",
              "  </style>\n",
              "\n",
              "      <script>\n",
              "        const buttonEl =\n",
              "          document.querySelector('#df-74269642-6d58-4ca2-a811-3532c5cf08a3 button.colab-df-convert');\n",
              "        buttonEl.style.display =\n",
              "          google.colab.kernel.accessAllowed ? 'block' : 'none';\n",
              "\n",
              "        async function convertToInteractive(key) {\n",
              "          const element = document.querySelector('#df-74269642-6d58-4ca2-a811-3532c5cf08a3');\n",
              "          const dataTable =\n",
              "            await google.colab.kernel.invokeFunction('convertToInteractive',\n",
              "                                                     [key], {});\n",
              "          if (!dataTable) return;\n",
              "\n",
              "          const docLinkHtml = 'Like what you see? Visit the ' +\n",
              "            '<a target=\"_blank\" href=https://colab.research.google.com/notebooks/data_table.ipynb>data table notebook</a>'\n",
              "            + ' to learn more about interactive tables.';\n",
              "          element.innerHTML = '';\n",
              "          dataTable['output_type'] = 'display_data';\n",
              "          await google.colab.output.renderOutput(dataTable, element);\n",
              "          const docLink = document.createElement('div');\n",
              "          docLink.innerHTML = docLinkHtml;\n",
              "          element.appendChild(docLink);\n",
              "        }\n",
              "      </script>\n",
              "    </div>\n",
              "  </div>\n",
              "  "
            ]
          },
          "metadata": {},
          "execution_count": 11
        }
      ],
      "source": [
        "# Encode item and category id in purchase dataset\n",
        "buy_df = buy_df.loc[buy_df.session_id.isin(df.session_id)]\n",
        "buy_df['item_id'] = item_encoder.transform(buy_df.item_id)\n",
        "buy_df.head()"
      ]
    },
    {
      "cell_type": "code",
      "execution_count": null,
      "metadata": {
        "colab": {
          "base_uri": "https://localhost:8080/"
        },
        "id": "9X2r4dSUvpk5",
        "outputId": "8f1b62ce-b8bc-4972-ce2a-9b8b537b0e54"
      },
      "outputs": [
        {
          "output_type": "execute_result",
          "data": {
            "text/plain": [
              "{3178534: [4773, 1502],\n",
              " 3178853: [1240],\n",
              " 3179241: [4709, 724, 3202],\n",
              " 3179404: [3006],\n",
              " 3179513: [2242],\n",
              " 3179877: [3053, 3963, 3688, 4249, 3667, 4131, 4376, 3902, 964],\n",
              " 3180527: [3582, 1577, 3574],\n",
              " 3180596: [3915, 3916],\n",
              " 3180682: [854],\n",
              " 3180734: [3884, 3887, 3899],\n",
              " 3180929: [2446],\n",
              " 3181216: [4860],\n",
              " 3181307: [3640, 3798],\n",
              " 3181372: [4031, 4031, 4136],\n",
              " 3181542: [3816],\n",
              " 3181674: [4023, 2589],\n",
              " 3181748: [3006],\n",
              " 3182771: [4080, 4111, 4028, 4249],\n",
              " 3182816: [4136, 3941, 3573],\n",
              " 3183018: [1132],\n",
              " 3183228: [3881],\n",
              " 3183237: [956, 4376, 2072, 3827],\n",
              " 3183676: [3628, 1979],\n",
              " 3183802: [4701, 4698, 3648],\n",
              " 3183843: [1547],\n",
              " 3183973: [3790, 3896, 3860, 3788],\n",
              " 3184868: [196, 196, 196, 196],\n",
              " 3184873: [3633, 3633],\n",
              " 3185056: [4002],\n",
              " 3185408: [4192, 2404],\n",
              " 3185528: [3594],\n",
              " 3185556: [4179, 3915, 3916, 3915, 3916, 4179],\n",
              " 3185928: [1256, 4057, 4057, 3993, 3994, 3968, 1545],\n",
              " 3186034: [4701, 4701, 4698],\n",
              " 3186366: [1968, 4321],\n",
              " 3186381: [3582, 3581],\n",
              " 3186384: [4165, 4186, 3896, 4031],\n",
              " 3186514: [4376],\n",
              " 3186517: [3785, 3781, 1776, 4134],\n",
              " 3186527: [4001, 3747],\n",
              " 3186552: [1303],\n",
              " 3186806: [4028, 4249, 3600, 3599],\n",
              " 3187123: [3633],\n",
              " 3187249: [348],\n",
              " 3187354: [2752, 2378],\n",
              " 3187638: [3864, 3866, 4170, 4188],\n",
              " 3187914: [651, 411],\n",
              " 3187971: [3968, 1583],\n",
              " 3188013: [4872],\n",
              " 3188353: [4178, 3634, 662, 4505],\n",
              " 3188549: [248],\n",
              " 3188752: [4135, 4855],\n",
              " 3189086: [1098, 80],\n",
              " 3189107: [3740, 4028, 2872],\n",
              " 3189244: [1241],\n",
              " 3190022: [2599, 1843],\n",
              " 3190234: [1582, 4222],\n",
              " 3190476: [3578],\n",
              " 3190494: [659],\n",
              " 3190504: [1583, 3968],\n",
              " 3190594: [4488, 4491, 4623],\n",
              " 3190709: [4698, 3648, 3204, 3204],\n",
              " 3190828: [3154],\n",
              " 3191022: [2990],\n",
              " 3191342: [3487, 3717],\n",
              " 3191793: [705, 3244, 3579],\n",
              " 3191874: [4010, 3864, 4170],\n",
              " 3192044: [4320, 3640],\n",
              " 3192138: [4186, 4028, 4109, 4249, 3599, 2390, 3363, 1296],\n",
              " 3192197: [348, 298, 3993],\n",
              " 3192528: [4170, 3866, 4426, 2544, 4189],\n",
              " 3192659: [3717, 2677],\n",
              " 3192949: [4056],\n",
              " 3192974: [4459],\n",
              " 3192989: [1625],\n",
              " 3193077: [2975],\n",
              " 3193481: [4714, 4144, 4112, 4112, 4144, 4714],\n",
              " 3193626: [645],\n",
              " 3193863: [660],\n",
              " 3194053: [3884, 3727, 3255],\n",
              " 3194106: [3842, 3687, 3633, 3636],\n",
              " 3194339: [2938, 2131],\n",
              " 3194612: [1256, 4057, 3993],\n",
              " 3194647: [4507],\n",
              " 3194684: [3941, 3888, 3884],\n",
              " 3194947: [3790,\n",
              "  4178,\n",
              "  3860,\n",
              "  3990,\n",
              "  4178,\n",
              "  3860,\n",
              "  3790,\n",
              "  3990,\n",
              "  4178,\n",
              "  3860,\n",
              "  3990,\n",
              "  3790],\n",
              " 3194949: [3753],\n",
              " 3195106: [3371],\n",
              " 3195576: [3633],\n",
              " 3195647: [241, 2418, 4186, 4176],\n",
              " 3196264: [1166],\n",
              " 3196339: [4872],\n",
              " 3196391: [1158],\n",
              " 3196783: [4179],\n",
              " 3197169: [1920],\n",
              " 3197189: [4113,\n",
              "  4094,\n",
              "  4114,\n",
              "  4061,\n",
              "  4081,\n",
              "  4078,\n",
              "  4094,\n",
              "  4081,\n",
              "  4114,\n",
              "  4061,\n",
              "  4113,\n",
              "  4078],\n",
              " 3197861: [3649, 3639],\n",
              " 3197907: [1121, 665],\n",
              " 3197916: [3582, 3633],\n",
              " 3198197: [3582, 3582],\n",
              " 3198296: [3992, 4010, 4188],\n",
              " 3198401: [4486, 863],\n",
              " 3198426: [4177],\n",
              " 3198572: [3289],\n",
              " 3198821: [4741],\n",
              " 3198939: [3916, 3915, 2312],\n",
              " 3198987: [3026, 2916],\n",
              " 3199066: [3633],\n",
              " 3199353: [3200],\n",
              " 3199552: [3990, 4057, 1256],\n",
              " 3199628: [2536, 4622, 2544, 4647],\n",
              " 3199641: [3968],\n",
              " 3199724: [4188, 1092, 4194],\n",
              " 3199814: [4294],\n",
              " 3199967: [4130, 4165],\n",
              " 3200087: [2953, 2938],\n",
              " 3200094: [3381, 3596, 3598, 4057, 3994, 3968],\n",
              " 3200106: [3912, 4028, 4376, 666],\n",
              " 3200113: [1636],\n",
              " 3200241: [3912, 3914, 3914, 3912],\n",
              " 3200392: [4701, 4698],\n",
              " 3200507: [1851],\n",
              " 3200616: [3578],\n",
              " 3201201: [4134, 4136, 3788],\n",
              " 3201387: [3363],\n",
              " 3202044: [4086,\n",
              "  4140,\n",
              "  4061,\n",
              "  4084,\n",
              "  4103,\n",
              "  4094,\n",
              "  4088,\n",
              "  4081,\n",
              "  4113,\n",
              "  4144,\n",
              "  4086,\n",
              "  4094,\n",
              "  4061,\n",
              "  4140,\n",
              "  4084,\n",
              "  4103,\n",
              "  4081,\n",
              "  4088,\n",
              "  4113,\n",
              "  4144],\n",
              " 3202086: [4178],\n",
              " 3202124: [3648],\n",
              " 3202187: [4061, 4251],\n",
              " 3202193: [1328],\n",
              " 3202237: [108, 1546],\n",
              " 3202338: [3904, 3748, 3258, 3694],\n",
              " 3202537: [652],\n",
              " 3203057: [3790],\n",
              " 3203343: [541, 542, 542, 541],\n",
              " 3203516: [3976],\n",
              " 3203772: [3993, 4056, 1252, 4009, 3682, 2181, 2599],\n",
              " 3203833: [3738, 3907],\n",
              " 3203919: [3968],\n",
              " 3204286: [1139],\n",
              " 3204647: [3799],\n",
              " 3205139: [4179, 4177, 4176],\n",
              " 3205192: [4132, 396, 3798],\n",
              " 3205227: [626],\n",
              " 3205332: [3881, 3147],\n",
              " 3205371: [4170, 3866, 4188, 3747, 3738, 4188, 3973],\n",
              " 3205604: [4179, 3788],\n",
              " 3205896: [4085, 4091],\n",
              " 3205921: [3884],\n",
              " 3205939: [801, 4252],\n",
              " 3206154: [1329],\n",
              " 3206236: [1698],\n",
              " 3206767: [867, 3560, 3129, 3251, 867, 3560, 3251, 3129],\n",
              " 3207132: [3915, 3916, 3912, 2872, 3914],\n",
              " 3207173: [4712, 516],\n",
              " 3207486: [4333, 3572, 1070, 2230, 3628],\n",
              " 3207581: [3794, 2782],\n",
              " 3207651: [4178],\n",
              " 3207709: [3573, 4249, 3405, 4249, 3405, 3573],\n",
              " 3207759: [3201, 3197],\n",
              " 3208033: [4056, 4049, 3179],\n",
              " 3208038: [4872, 4872, 4872],\n",
              " 3208291: [3633],\n",
              " 3208736: [1908],\n",
              " 3208867: [1490],\n",
              " 3209493: [4869, 1166],\n",
              " 3209622: [3580, 3580],\n",
              " 3209643: [3628, 3298, 3747, 3084, 4109, 1979, 3421],\n",
              " 3209704: [4177, 4179, 4190],\n",
              " 3210024: [3113],\n",
              " 3210037: [4701, 4698, 4698, 4701],\n",
              " 3210094: [3633, 649],\n",
              " 3210144: [3914, 3912, 3916, 3915],\n",
              " 3210188: [1625, 3866],\n",
              " 3210221: [4253],\n",
              " 3210274: [3004],\n",
              " 3210352: [3578],\n",
              " 3210727: [2693],\n",
              " 3210743: [3393, 3887],\n",
              " 3211256: [1454],\n",
              " 3538998: [4081,\n",
              "  4112,\n",
              "  4112,\n",
              "  4113,\n",
              "  4081,\n",
              "  4103,\n",
              "  4081,\n",
              "  4112,\n",
              "  4112,\n",
              "  4081,\n",
              "  4081,\n",
              "  4113,\n",
              "  4103,\n",
              "  4081],\n",
              " 3539092: [1031, 1893],\n",
              " 3539168: [1610],\n",
              " 3539213: [3875, 956],\n",
              " 3539322: [3596, 3599, 4260, 4825],\n",
              " 3539332: [217, 1861, 96, 1603],\n",
              " 3539466: [3573, 3799],\n",
              " 3539551: [2149],\n",
              " 3539581: [645],\n",
              " 3539727: [3915, 3916, 3914],\n",
              " 3539801: [4376],\n",
              " 3539934: [3629, 3501],\n",
              " 3540031: [3885, 3886, 3887, 3899],\n",
              " 3540417: [2252, 2252],\n",
              " 3540528: [4132],\n",
              " 3540536: [3784, 1847],\n",
              " 3540629: [2850, 2850, 2850],\n",
              " 3540702: [4701, 4698],\n",
              " 3540703: [3860],\n",
              " 3540791: [3788],\n",
              " 3541032: [1004, 2836, 2378],\n",
              " 3541081: [4872],\n",
              " 3541181: [4185, 3646, 2872],\n",
              " 3541309: [3747, 3618, 1611, 4057, 4253, 2913],\n",
              " 3541319: [4249, 3599, 4701],\n",
              " 3541344: [3701, 680],\n",
              " 3541732: [1625, 4170, 1625, 3866, 3864, 4170],\n",
              " 3541736: [3422, 3721, 3412],\n",
              " 3541798: [3582, 3574, 3583],\n",
              " 3542086: [1224],\n",
              " 3542189: [3941, 3573],\n",
              " 3542412: [4185, 3896, 2054],\n",
              " 3542419: [4198],\n",
              " 3542433: [3826],\n",
              " 3542791: [4775],\n",
              " 3542963: [4131],\n",
              " 3542969: [2598],\n",
              " 3543313: [2521, 4475],\n",
              " 3543322: [1256, 3994, 4057],\n",
              " 3543358: [3413, 3422],\n",
              " 3543367: [2384, 3884],\n",
              " 3543453: [3738, 4265, 3866, 1371, 3864, 3795],\n",
              " 3543459: [2817],\n",
              " 3543503: [2915],\n",
              " 3543659: [4698],\n",
              " 3543687: [3809, 2967, 4032, 2278, 4033],\n",
              " 3544024: [3411],\n",
              " 3544213: [3694, 4376],\n",
              " 3544623: [3595, 3634],\n",
              " 3544642: [1028],\n",
              " 3544724: [3920, 3929, 3928, 3927, 3930],\n",
              " 3544872: [3204, 3204],\n",
              " 3544879: [3968, 3953, 1545, 1256, 3993, 4057, 3682],\n",
              " 3545144: [3747,\n",
              "  3862,\n",
              "  4010,\n",
              "  3875,\n",
              "  4825,\n",
              "  3605,\n",
              "  1625,\n",
              "  3864,\n",
              "  4191,\n",
              "  1192,\n",
              "  4249,\n",
              "  4028],\n",
              " 3545329: [3916, 3915, 3681],\n",
              " 3546008: [2875],\n",
              " 3546022: [3994, 4057],\n",
              " 3546069: [3912, 3916],\n",
              " 3547303: [2397, 3582],\n",
              " 3547387: [3886, 3900, 3885],\n",
              " 3547411: [3826, 2872, 3914, 3916],\n",
              " 3548472: [4252, 4252],\n",
              " 3548479: [1900],\n",
              " 3548668: [3994, 3682],\n",
              " 3548813: [3717, 580, 4179],\n",
              " 3548898: [863, 4186],\n",
              " 3548938: [3885],\n",
              " 3548939: [3640, 2723],\n",
              " 3549126: [4078, 4078, 4088, 4112, 4112, 4140, 4140, 4086, 4061],\n",
              " 3549343: [237],\n",
              " 3549422: [4191],\n",
              " 3549453: [3064],\n",
              " 3549471: [4170, 3738, 3864, 3865, 3866],\n",
              " 3549678: [2619],\n",
              " 3550131: [4056, 4056],\n",
              " 3550533: [3635],\n",
              " 3550794: [4057, 3993, 3993, 4057],\n",
              " 3551079: [4178, 1488, 3421]}"
            ]
          },
          "metadata": {},
          "execution_count": 12
        }
      ],
      "source": [
        "# Get item dictionary with grouping by session\n",
        "buy_item_dict = dict(buy_df.groupby('session_id')['item_id'].apply(list))\n",
        "buy_item_dict"
      ]
    },
    {
      "cell_type": "markdown",
      "metadata": {
        "id": "TmAIvMxdqULc"
      },
      "source": [
        "### Сборка выборки для обучения"
      ]
    },
    {
      "cell_type": "code",
      "execution_count": null,
      "metadata": {
        "id": "RP25OdIWvpk6"
      },
      "outputs": [],
      "source": [
        "# Transform df into tensor data\n",
        "def transform_dataset(df, buy_item_dict):\n",
        "    data_list = []\n",
        "\n",
        "    # Group by session\n",
        "    grouped = df.groupby('session_id')\n",
        "    for session_id, group in tqdm(grouped):    \n",
        "        le = LabelEncoder()\n",
        "        sess_item_id = le.fit_transform(group.item_id)\n",
        "        group = group.reset_index(drop=True)\n",
        "        group['sess_item_id'] = sess_item_id\n",
        "\n",
        "        #get input features\n",
        "        node_features = group.loc[group.session_id==session_id,\n",
        "                                    ['sess_item_id','item_id','category']].sort_values('sess_item_id')[['item_id','category']].drop_duplicates().values\n",
        "        node_features = torch.LongTensor(node_features).unsqueeze(1)\n",
        "        target_nodes = group.sess_item_id.values[1:]\n",
        "        source_nodes = group.sess_item_id.values[:-1]\n",
        "\n",
        "        edge_index = torch.tensor([source_nodes,\n",
        "                                target_nodes], dtype=torch.long)\n",
        "        x = node_features\n",
        "\n",
        "        #get result\n",
        "        if session_id in buy_item_dict:\n",
        "            positive_indices = le.transform(buy_item_dict[session_id])\n",
        "            label = np.zeros(len(node_features))\n",
        "            label[positive_indices] = 1\n",
        "        else:\n",
        "            label = [0] * len(node_features)\n",
        "\n",
        "        y = torch.FloatTensor(label)\n",
        "\n",
        "        data = Data(x=x, edge_index=edge_index, y=y)\n",
        "\n",
        "        data_list.append(data)\n",
        "    \n",
        "    return data_list\n",
        "\n",
        "# Pytorch class for creating datasets\n",
        "class YooChooseDataset(InMemoryDataset):\n",
        "    def __init__(self, root, transform=None, pre_transform=None):\n",
        "        super(YooChooseDataset, self).__init__(root, transform, pre_transform)\n",
        "        self.data, self.slices = torch.load(self.processed_paths[0])\n",
        "\n",
        "    @property\n",
        "    def raw_file_names(self):\n",
        "        return []\n",
        "\n",
        "    @property\n",
        "    def processed_file_names(self):\n",
        "        return [BASE_DIR+'yoochoose_click_binary_100000_sess.dataset']\n",
        "\n",
        "    def download(self):\n",
        "        pass\n",
        "    \n",
        "    def process(self):\n",
        "        data_list = transform_dataset(df, buy_item_dict)\n",
        "        \n",
        "        data, slices = self.collate(data_list)\n",
        "        torch.save((data, slices), self.processed_paths[0])"
      ]
    },
    {
      "cell_type": "code",
      "execution_count": null,
      "metadata": {
        "id": "Tqy60yNSvpk7",
        "scrolled": true
      },
      "outputs": [],
      "source": [
        "# Prepare dataset\n",
        "dataset = YooChooseDataset('./')"
      ]
    },
    {
      "cell_type": "markdown",
      "metadata": {
        "id": "u_1Zs9NvGnl9"
      },
      "source": [
        "### Разделение выборки"
      ]
    },
    {
      "cell_type": "code",
      "execution_count": null,
      "metadata": {
        "id": "7dSv_845vpk8",
        "colab": {
          "base_uri": "https://localhost:8080/"
        },
        "outputId": "48b5b724-6708-475f-8118-05f047c9a114"
      },
      "outputs": [
        {
          "output_type": "execute_result",
          "data": {
            "text/plain": [
              "(1600, 200, 200)"
            ]
          },
          "metadata": {},
          "execution_count": 15
        }
      ],
      "source": [
        "# train_test_split\n",
        "dataset = dataset.shuffle()\n",
        "one_tenth_length = int(len(dataset) * 0.1)\n",
        "train_dataset = dataset[:one_tenth_length * 8]\n",
        "val_dataset = dataset[one_tenth_length*8:one_tenth_length * 9]\n",
        "test_dataset = dataset[one_tenth_length*9:]\n",
        "len(train_dataset), len(val_dataset), len(test_dataset)"
      ]
    },
    {
      "cell_type": "code",
      "execution_count": null,
      "metadata": {
        "colab": {
          "base_uri": "https://localhost:8080/"
        },
        "id": "fX2R64sbvpk8",
        "outputId": "c12569fb-321d-4e84-f58f-6f6ff3fcac29"
      },
      "outputs": [
        {
          "output_type": "stream",
          "name": "stderr",
          "text": [
            "/usr/local/lib/python3.7/dist-packages/torch_geometric/deprecation.py:12: UserWarning: 'data.DataLoader' is deprecated, use 'loader.DataLoader' instead\n",
            "  warnings.warn(out)\n"
          ]
        }
      ],
      "source": [
        "# Load dataset into PyG loaders \n",
        "batch_size= 512\n",
        "train_loader = DataLoader(train_dataset, batch_size=batch_size)\n",
        "val_loader = DataLoader(val_dataset, batch_size=batch_size)\n",
        "test_loader = DataLoader(test_dataset, batch_size=batch_size)"
      ]
    },
    {
      "cell_type": "code",
      "execution_count": null,
      "metadata": {
        "id": "jd9yGefWvpk9",
        "colab": {
          "base_uri": "https://localhost:8080/"
        },
        "outputId": "1131876e-8f9d-4cf3-a488-028b35f7a546"
      },
      "outputs": [
        {
          "output_type": "execute_result",
          "data": {
            "text/plain": [
              "(4873, 1)"
            ]
          },
          "metadata": {},
          "execution_count": 17
        }
      ],
      "source": [
        "# Load dataset into PyG loaders \n",
        "num_items = df.item_id.max() +1\n",
        "num_categories = df.category.max()+1\n",
        "num_items , num_categories"
      ]
    },
    {
      "cell_type": "markdown",
      "source": [
        "### Настройка модели для обучения"
      ],
      "metadata": {
        "id": "5W6ZJ5me56NG"
      }
    },
    {
      "cell_type": "code",
      "execution_count": null,
      "metadata": {
        "id": "QxL-VRxvvpk9"
      },
      "outputs": [],
      "source": [
        "embed_dim = 128\n",
        "from torch_geometric.nn import GraphConv, TopKPooling, GatedGraphConv, SAGEConv, SGConv\n",
        "from torch_geometric.nn import global_mean_pool as gap, global_max_pool as gmp\n",
        "import torch.nn.functional as F\n",
        "\n",
        "class Net(torch.nn.Module):\n",
        "    def __init__(self):\n",
        "        super(Net, self).__init__()\n",
        "        # Model Structure\n",
        "        self.conv1 = GraphConv(embed_dim * 2, 128)\n",
        "        self.pool1 = TopKPooling(128, ratio=0.9)\n",
        "        self.conv2 = GraphConv(128, 128)\n",
        "        self.pool2 = TopKPooling(128, ratio=0.9)\n",
        "        self.conv3 = GraphConv(128, 128)\n",
        "        self.pool3 = TopKPooling(128, ratio=0.9)\n",
        "        self.item_embedding = torch.nn.Embedding(num_embeddings=num_items, embedding_dim=embed_dim)\n",
        "        self.category_embedding = torch.nn.Embedding(num_embeddings=num_categories, embedding_dim=embed_dim)        \n",
        "        self.lin1 = torch.nn.Linear(256, 256)\n",
        "        self.lin2 = torch.nn.Linear(256, 128)\n",
        "        self.bn1 = torch.nn.BatchNorm1d(128)\n",
        "        self.bn2 = torch.nn.BatchNorm1d(64)\n",
        "        self.act1 = torch.nn.ReLU()\n",
        "        self.act2 = torch.nn.ReLU()        \n",
        "  \n",
        "    # Forward step of a model\n",
        "    def forward(self, data):\n",
        "        x, edge_index, batch = data.x, data.edge_index, data.batch\n",
        "        \n",
        "        item_id = x[:,:,0]\n",
        "        category = x[:,:,1]\n",
        "        \n",
        "\n",
        "        emb_item = self.item_embedding(item_id).squeeze(1)\n",
        "        emb_category = self.category_embedding(category).squeeze(1)\n",
        "        \n",
        "        x = torch.cat([emb_item, emb_category], dim=1)  \n",
        "        # print(x.shape)\n",
        "        x = F.relu(self.conv1(x, edge_index))\n",
        "        # print(x.shape)\n",
        "        r = self.pool1(x, edge_index, None, batch)\n",
        "        # print(r)\n",
        "        x, edge_index, _, batch, _, _ = self.pool1(x, edge_index, None, batch)\n",
        "        x1 = torch.cat([gmp(x, batch), gap(x, batch)], dim=1)\n",
        "\n",
        "        x = F.relu(self.conv2(x, edge_index))\n",
        "     \n",
        "        x, edge_index, _, batch, _, _ = self.pool2(x, edge_index, None, batch)\n",
        "        x2 = torch.cat([gmp(x, batch), gap(x, batch)], dim=1)\n",
        "\n",
        "        x = F.relu(self.conv3(x, edge_index))\n",
        "\n",
        "        x, edge_index, _, batch, _, _ = self.pool3(x, edge_index, None, batch)\n",
        "        x3 = torch.cat([gmp(x, batch), gap(x, batch)], dim=1)\n",
        "\n",
        "        x = x1 + x2 + x3\n",
        "\n",
        "        x = self.lin1(x)\n",
        "        x = self.act1(x)\n",
        "        x = self.lin2(x)\n",
        "        x = F.dropout(x, p=0.5, training=self.training)\n",
        "        x = self.act2(x)      \n",
        "        \n",
        "        outputs = []\n",
        "        for i in range(x.size(0)):\n",
        "            output = torch.matmul(emb_item[data.batch == i], x[i,:])\n",
        "\n",
        "            outputs.append(output)\n",
        "              \n",
        "        x = torch.cat(outputs, dim=0)\n",
        "        x = torch.sigmoid(x)\n",
        "        \n",
        "        return x"
      ]
    },
    {
      "cell_type": "markdown",
      "source": [
        "### Обучение нейронной сверточной сети"
      ],
      "metadata": {
        "id": "dXOBVplS3yoV"
      }
    },
    {
      "cell_type": "code",
      "execution_count": null,
      "metadata": {
        "id": "UctJnSw_vXru"
      },
      "outputs": [],
      "source": [
        "# Enable CUDA computing\n",
        "device = torch.device('cuda')\n",
        "model = Net().to(device)\n",
        "# Choose optimizer and criterion for learning\n",
        "optimizer = torch.optim.Adam(model.parameters(), lr=0.002)\n",
        "crit = torch.nn.BCELoss()"
      ]
    },
    {
      "cell_type": "code",
      "execution_count": null,
      "metadata": {
        "id": "z-YOFBxAvpk9"
      },
      "outputs": [],
      "source": [
        "# Train function\n",
        "def train():\n",
        "    model.train()\n",
        "\n",
        "    loss_all = 0\n",
        "    for data in train_loader:\n",
        "        data = data.to(device)\n",
        "        optimizer.zero_grad()\n",
        "        output = model(data)\n",
        "\n",
        "        label = data.y.to(device)\n",
        "        loss = crit(output, label)\n",
        "        loss.backward()\n",
        "        loss_all += data.num_graphs * loss.item()\n",
        "        optimizer.step()\n",
        "    return loss_all / len(train_dataset)"
      ]
    },
    {
      "cell_type": "code",
      "execution_count": null,
      "metadata": {
        "id": "bjl2k0ixvpk-"
      },
      "outputs": [],
      "source": [
        "# Evaluate result of a model\n",
        "from sklearn.metrics import roc_auc_score\n",
        "def evaluate(loader):\n",
        "    model.eval()\n",
        "\n",
        "    predictions = []\n",
        "    labels = []\n",
        "\n",
        "    with torch.no_grad():\n",
        "        for data in loader:\n",
        "\n",
        "            data = data.to(device)\n",
        "            pred = model(data).detach().cpu().numpy()\n",
        "\n",
        "            label = data.y.detach().cpu().numpy()\n",
        "            predictions.append(pred)\n",
        "            labels.append(label)\n",
        "\n",
        "    predictions = np.hstack(predictions)\n",
        "    labels = np.hstack(labels)\n",
        "    \n",
        "    return roc_auc_score(labels, predictions)"
      ]
    },
    {
      "cell_type": "code",
      "execution_count": null,
      "metadata": {
        "id": "jQVIFRgXvpk-",
        "scrolled": true,
        "colab": {
          "base_uri": "https://localhost:8080/"
        },
        "outputId": "e140c87b-2e7a-4484-d5a5-c68d43efba94"
      },
      "outputs": [
        {
          "output_type": "stream",
          "name": "stderr",
          "text": [
            " 10%|█         | 1/10 [00:03<00:29,  3.30s/it]"
          ]
        },
        {
          "output_type": "stream",
          "name": "stdout",
          "text": [
            "Epoch: 000, Loss: 0.74019, Train Auc: 0.50109, Val Auc: 0.50688, Test Auc: 0.53295\n"
          ]
        },
        {
          "output_type": "stream",
          "name": "stderr",
          "text": [
            "\r 20%|██        | 2/10 [00:07<00:28,  3.57s/it]"
          ]
        },
        {
          "output_type": "stream",
          "name": "stdout",
          "text": [
            "Epoch: 001, Loss: 0.77293, Train Auc: 0.51751, Val Auc: 0.41170, Test Auc: 0.46785\n"
          ]
        },
        {
          "output_type": "stream",
          "name": "stderr",
          "text": [
            "\r 30%|███       | 3/10 [00:10<00:25,  3.62s/it]"
          ]
        },
        {
          "output_type": "stream",
          "name": "stdout",
          "text": [
            "Epoch: 002, Loss: 0.71779, Train Auc: 0.52556, Val Auc: 0.49923, Test Auc: 0.54498\n"
          ]
        },
        {
          "output_type": "stream",
          "name": "stderr",
          "text": [
            "\r 40%|████      | 4/10 [00:14<00:21,  3.55s/it]"
          ]
        },
        {
          "output_type": "stream",
          "name": "stdout",
          "text": [
            "Epoch: 003, Loss: 0.66214, Train Auc: 0.52141, Val Auc: 0.53117, Test Auc: 0.52894\n"
          ]
        },
        {
          "output_type": "stream",
          "name": "stderr",
          "text": [
            "\r 50%|█████     | 5/10 [00:15<00:14,  2.86s/it]"
          ]
        },
        {
          "output_type": "stream",
          "name": "stdout",
          "text": [
            "Epoch: 004, Loss: 0.64963, Train Auc: 0.55996, Val Auc: 0.47408, Test Auc: 0.50235\n"
          ]
        },
        {
          "output_type": "stream",
          "name": "stderr",
          "text": [
            "\r 60%|██████    | 6/10 [00:17<00:09,  2.40s/it]"
          ]
        },
        {
          "output_type": "stream",
          "name": "stdout",
          "text": [
            "Epoch: 005, Loss: 0.62287, Train Auc: 0.57720, Val Auc: 0.47841, Test Auc: 0.47994\n"
          ]
        },
        {
          "output_type": "stream",
          "name": "stderr",
          "text": [
            "\r 70%|███████   | 7/10 [00:18<00:06,  2.14s/it]"
          ]
        },
        {
          "output_type": "stream",
          "name": "stdout",
          "text": [
            "Epoch: 006, Loss: 0.58884, Train Auc: 0.56571, Val Auc: 0.53693, Test Auc: 0.44501\n"
          ]
        },
        {
          "output_type": "stream",
          "name": "stderr",
          "text": [
            "\r 80%|████████  | 8/10 [00:20<00:03,  1.95s/it]"
          ]
        },
        {
          "output_type": "stream",
          "name": "stdout",
          "text": [
            "Epoch: 007, Loss: 0.52650, Train Auc: 0.59977, Val Auc: 0.50027, Test Auc: 0.42533\n"
          ]
        },
        {
          "output_type": "stream",
          "name": "stderr",
          "text": [
            "\r 90%|█████████ | 9/10 [00:22<00:01,  1.82s/it]"
          ]
        },
        {
          "output_type": "stream",
          "name": "stdout",
          "text": [
            "Epoch: 008, Loss: 0.51185, Train Auc: 0.59779, Val Auc: 0.52538, Test Auc: 0.45058\n"
          ]
        },
        {
          "output_type": "stream",
          "name": "stderr",
          "text": [
            "100%|██████████| 10/10 [00:23<00:00,  2.36s/it]"
          ]
        },
        {
          "output_type": "stream",
          "name": "stdout",
          "text": [
            "Epoch: 009, Loss: 0.46456, Train Auc: 0.61539, Val Auc: 0.50433, Test Auc: 0.39570\n"
          ]
        },
        {
          "output_type": "stream",
          "name": "stderr",
          "text": [
            "\n"
          ]
        }
      ],
      "source": [
        "# Train a model\n",
        "NUM_EPOCHS =   10#@param { type: \"integer\" }\n",
        "for epoch in tqdm(range(NUM_EPOCHS)):\n",
        "    loss = train()\n",
        "    train_acc = evaluate(train_loader)\n",
        "    val_acc = evaluate(val_loader)    \n",
        "    test_acc = evaluate(test_loader)\n",
        "    print('Epoch: {:03d}, Loss: {:.5f}, Train Auc: {:.5f}, Val Auc: {:.5f}, Test Auc: {:.5f}'.\n",
        "          format(epoch, loss, train_acc, val_acc, test_acc))"
      ]
    },
    {
      "cell_type": "markdown",
      "metadata": {
        "id": "a6QGpZqWHnGL"
      },
      "source": [
        "### Проверка результата с помощью примеров"
      ]
    },
    {
      "cell_type": "code",
      "execution_count": null,
      "metadata": {
        "colab": {
          "base_uri": "https://localhost:8080/"
        },
        "id": "2U1cUmnFvpk-",
        "outputId": "37a05624-85a8-4d82-ea37-cb4e269fa394"
      },
      "outputs": [
        {
          "output_type": "stream",
          "name": "stderr",
          "text": [
            "/usr/local/lib/python3.7/dist-packages/torch_geometric/deprecation.py:12: UserWarning: 'data.DataLoader' is deprecated, use 'loader.DataLoader' instead\n",
            "  warnings.warn(out)\n"
          ]
        },
        {
          "output_type": "execute_result",
          "data": {
            "text/plain": [
              "0.704861111111111"
            ]
          },
          "metadata": {},
          "execution_count": 24
        }
      ],
      "source": [
        "# Подход №1 - из датасета\n",
        "evaluate(DataLoader(test_dataset[25:50], batch_size=10))"
      ]
    },
    {
      "cell_type": "code",
      "source": [
        "# Подход №2 - через создание сессии покупок\n",
        "test_df = pd.DataFrame([\n",
        "      [-1, 15219, 0],\n",
        "      [-1, 15431, 0],\n",
        "      [-1, 14371, 0],\n",
        "      [-1, 15745, 0],\n",
        "      [-2, 14594, 0],\n",
        "      [-2, 16972, 11],\n",
        "      [-2, 16943, 0],\n",
        "      [-3, 17284, 0]\n",
        "], columns=['session_id', 'item_id', 'category'])\n",
        "\n",
        "test_data = transform_dataset(test_df, buy_item_dict)\n",
        "test_data = DataLoader(test_data, batch_size=1)\n",
        "\n",
        "with torch.no_grad():\n",
        "    model.eval()\n",
        "    for data in test_data:\n",
        "        data = data.to(device)\n",
        "        pred = model(data).detach().cpu().numpy()\n",
        "\n",
        "        print(data, pred)"
      ],
      "metadata": {
        "id": "83YBm1rRg3ot"
      },
      "execution_count": null,
      "outputs": []
    }
  ],
  "metadata": {
    "accelerator": "GPU",
    "colab": {
      "collapsed_sections": [],
      "name": "Копия блокнота \"LAB_MMO_GCN.ipynb.txt\"",
      "provenance": []
    },
    "kernelspec": {
      "display_name": "Python 3",
      "language": "python",
      "name": "python3"
    },
    "language_info": {
      "codemirror_mode": {
        "name": "ipython",
        "version": 3
      },
      "file_extension": ".py",
      "mimetype": "text/x-python",
      "name": "python",
      "nbconvert_exporter": "python",
      "pygments_lexer": "ipython3",
      "version": "3.6.6"
    }
  },
  "nbformat": 4,
  "nbformat_minor": 0
}